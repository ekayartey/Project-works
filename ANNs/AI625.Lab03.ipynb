{
 "cells": [
  {
   "cell_type": "markdown",
   "metadata": {},
   "source": [
    "# Let's start doing some Neural Networks\n",
    "\n",
    "\n",
    "#### Libraries:\n",
    "As a starter we will install **TensorFlow**, and then **Keras** on top of it.\n",
    "\n",
    "Keras is a high-level Deep Learning API that can work with TensorFlow, Theano, and other lower-level Deep Learning libraries underneath. Keras simply allows us to define our ANN with a few lines of code.\n",
    "\n",
    "The benefit of using Keras is that our code will be super simple; and the inconvenience is that we will lose some flexibility. To have full flexbility we would have to use TensorFlow, or directly code our ANN if we are brave enough! (you can find YouTubers that do it).\n",
    "\n",
    "Anybody that is serious in the world of Deep Learning uses Keras - at least to create benchmark ANNs and then tune them in a lower-level library. You can check the top [Kaggle competitions](https://www.kaggle.com/competitions) to verify that.\n",
    "\n",
    "\n",
    "#### Now comes the hype:\n",
    "\n",
    "If you are lucky enough to have a **top-spec NVIDIA GPU** in your machine: _Release the Cracken!_. Your Deep Learning models will fly (much faster training, optimisation, etc). This is because the latest `pip install tensorflor keras` include support for CUDA-enabled GPU cards.\n",
    "\n",
    "Then, you can check if TensorFlow is detecting your GPU using these two lines of code:\n",
    "```\n",
    "import tensorflow as tf\n",
    "tf.config.list_physical_devices('GPU')\n",
    "```\n",
    "\n",
    "If you had more than one GPU, Keras would also run them in parallel. You can see now what the guys at Amazon, Apple, Google, Facebook, etc are playing with these days :)\n",
    "\n",
    "----\n",
    "\n",
    "**NOTE:** Sklearn also has Deep Learning in it, more concretely are Multi-Layer Perceptron (MLP) classifier and a regressor. However I want to show you more advanced libraries and remove a bit our dependency on Sklearn, which you already should dominate after previous courses in this programme. \n",
    "\n",
    "In Deep Learning job applications however, you will be much more likely to see the words \"Keras\" and \"Tensorflow\" included in it rather than \"Sklearn\""
   ]
  },
  {
   "cell_type": "code",
   "execution_count": 1,
   "metadata": {},
   "outputs": [
    {
     "name": "stdout",
     "output_type": "stream",
     "text": [
      "Requirement already satisfied: tensorflow in /Users/alberto/test_venv/lib/python3.8/site-packages (2.3.1)\n",
      "Requirement already satisfied: keras in /Users/alberto/test_venv/lib/python3.8/site-packages (2.4.3)\n",
      "Requirement already satisfied: numpy>=1.9.1 in /Users/alberto/test_venv/lib/python3.8/site-packages (from keras) (1.18.5)\n",
      "Requirement already satisfied: h5py in /Users/alberto/test_venv/lib/python3.8/site-packages (from keras) (2.10.0)\n",
      "Requirement already satisfied: pyyaml in /Users/alberto/test_venv/lib/python3.8/site-packages (from keras) (5.3.1)\n",
      "Requirement already satisfied: scipy>=0.14 in /Users/alberto/test_venv/lib/python3.8/site-packages (from keras) (1.5.2)\n",
      "Requirement already satisfied: termcolor>=1.1.0 in /Users/alberto/test_venv/lib/python3.8/site-packages (from tensorflow) (1.1.0)\n",
      "Requirement already satisfied: keras-preprocessing<1.2,>=1.1.1 in /Users/alberto/test_venv/lib/python3.8/site-packages (from tensorflow) (1.1.2)\n",
      "Requirement already satisfied: absl-py>=0.7.0 in /Users/alberto/test_venv/lib/python3.8/site-packages (from tensorflow) (0.11.0)\n",
      "Requirement already satisfied: grpcio>=1.8.6 in /Users/alberto/test_venv/lib/python3.8/site-packages (from tensorflow) (1.31.0)\n",
      "Requirement already satisfied: tensorboard<3,>=2.3.0 in /Users/alberto/test_venv/lib/python3.8/site-packages (from tensorflow) (2.4.0)\n",
      "Requirement already satisfied: wrapt>=1.11.1 in /Users/alberto/test_venv/lib/python3.8/site-packages (from tensorflow) (1.12.1)\n",
      "Requirement already satisfied: six>=1.12.0 in /Users/alberto/test_venv/lib/python3.8/site-packages (from tensorflow) (1.15.0)\n",
      "Requirement already satisfied: google-pasta>=0.1.8 in /Users/alberto/test_venv/lib/python3.8/site-packages (from tensorflow) (0.2.0)\n",
      "Requirement already satisfied: gast==0.3.3 in /Users/alberto/test_venv/lib/python3.8/site-packages (from tensorflow) (0.3.3)\n",
      "Requirement already satisfied: tensorflow-estimator<2.4.0,>=2.3.0 in /Users/alberto/test_venv/lib/python3.8/site-packages (from tensorflow) (2.3.0)\n",
      "Requirement already satisfied: wheel>=0.26 in /Users/alberto/test_venv/lib/python3.8/site-packages (from tensorflow) (0.36.1)\n",
      "Requirement already satisfied: opt-einsum>=2.3.2 in /Users/alberto/test_venv/lib/python3.8/site-packages (from tensorflow) (3.3.0)\n",
      "Requirement already satisfied: protobuf>=3.9.2 in /Users/alberto/test_venv/lib/python3.8/site-packages (from tensorflow) (3.12.4)\n",
      "Requirement already satisfied: astunparse==1.6.3 in /Users/alberto/test_venv/lib/python3.8/site-packages (from tensorflow) (1.6.3)\n",
      "Requirement already satisfied: setuptools in /Users/alberto/test_venv/lib/python3.8/site-packages (from protobuf>=3.9.2->tensorflow) (41.2.0)\n",
      "Requirement already satisfied: google-auth<2,>=1.6.3 in /Users/alberto/test_venv/lib/python3.8/site-packages (from tensorboard<3,>=2.3.0->tensorflow) (1.20.1)\n",
      "Requirement already satisfied: tensorboard-plugin-wit>=1.6.0 in /Users/alberto/test_venv/lib/python3.8/site-packages (from tensorboard<3,>=2.3.0->tensorflow) (1.7.0)\n",
      "Requirement already satisfied: requests<3,>=2.21.0 in /Users/alberto/test_venv/lib/python3.8/site-packages (from tensorboard<3,>=2.3.0->tensorflow) (2.24.0)\n",
      "Requirement already satisfied: werkzeug>=0.11.15 in /Users/alberto/test_venv/lib/python3.8/site-packages (from tensorboard<3,>=2.3.0->tensorflow) (1.0.1)\n",
      "Requirement already satisfied: google-auth-oauthlib<0.5,>=0.4.1 in /Users/alberto/test_venv/lib/python3.8/site-packages (from tensorboard<3,>=2.3.0->tensorflow) (0.4.2)\n",
      "Requirement already satisfied: markdown>=2.6.8 in /Users/alberto/test_venv/lib/python3.8/site-packages (from tensorboard<3,>=2.3.0->tensorflow) (3.3.3)\n",
      "Requirement already satisfied: pyasn1-modules>=0.2.1 in /Users/alberto/test_venv/lib/python3.8/site-packages (from google-auth<2,>=1.6.3->tensorboard<3,>=2.3.0->tensorflow) (0.2.8)\n",
      "Requirement already satisfied: cachetools<5.0,>=2.0.0 in /Users/alberto/test_venv/lib/python3.8/site-packages (from google-auth<2,>=1.6.3->tensorboard<3,>=2.3.0->tensorflow) (4.1.1)\n",
      "Requirement already satisfied: rsa<5,>=3.1.4 in /Users/alberto/test_venv/lib/python3.8/site-packages (from google-auth<2,>=1.6.3->tensorboard<3,>=2.3.0->tensorflow) (4.6)\n",
      "Requirement already satisfied: requests-oauthlib>=0.7.0 in /Users/alberto/test_venv/lib/python3.8/site-packages (from google-auth-oauthlib<0.5,>=0.4.1->tensorboard<3,>=2.3.0->tensorflow) (1.3.0)\n",
      "Requirement already satisfied: pyasn1<0.5.0,>=0.4.6 in /Users/alberto/test_venv/lib/python3.8/site-packages (from pyasn1-modules>=0.2.1->google-auth<2,>=1.6.3->tensorboard<3,>=2.3.0->tensorflow) (0.4.8)\n",
      "Requirement already satisfied: urllib3!=1.25.0,!=1.25.1,<1.26,>=1.21.1 in /Users/alberto/test_venv/lib/python3.8/site-packages (from requests<3,>=2.21.0->tensorboard<3,>=2.3.0->tensorflow) (1.25.10)\n",
      "Requirement already satisfied: certifi>=2017.4.17 in /Users/alberto/test_venv/lib/python3.8/site-packages (from requests<3,>=2.21.0->tensorboard<3,>=2.3.0->tensorflow) (2020.6.20)\n",
      "Requirement already satisfied: chardet<4,>=3.0.2 in /Users/alberto/test_venv/lib/python3.8/site-packages (from requests<3,>=2.21.0->tensorboard<3,>=2.3.0->tensorflow) (3.0.4)\n",
      "Requirement already satisfied: idna<3,>=2.5 in /Users/alberto/test_venv/lib/python3.8/site-packages (from requests<3,>=2.21.0->tensorboard<3,>=2.3.0->tensorflow) (2.10)\n",
      "Requirement already satisfied: oauthlib>=3.0.0 in /Users/alberto/test_venv/lib/python3.8/site-packages (from requests-oauthlib>=0.7.0->google-auth-oauthlib<0.5,>=0.4.1->tensorboard<3,>=2.3.0->tensorflow) (3.1.0)\n"
     ]
    }
   ],
   "source": [
    "!pip install tensorflow keras"
   ]
  },
  {
   "cell_type": "markdown",
   "metadata": {},
   "source": [
    "### Data:\n",
    "\n",
    "Just as we did in the Introduction to Machine Learning course, we will start by using the most standard dataset. In supervised classification it was the Iris Dataset, and here is the MNIST dataset.\n",
    "\n",
    "This dataset consists of a training set of 60k images of hand-written digits. The digits are from 0 to 9. So our target feature has 10 classes. Additionally, it comes with a testing set of another 10k images.\n",
    "\n",
    "Each image is a 28x28 pixels, greyscale one. Each pixel has a value between 0 and 255 that represents how dark or clear the value of that pixel is."
   ]
  },
  {
   "cell_type": "code",
   "execution_count": 2,
   "metadata": {},
   "outputs": [],
   "source": [
    "from keras.datasets import mnist \n",
    "\n",
    "import matplotlib.pyplot as plt"
   ]
  },
  {
   "cell_type": "code",
   "execution_count": 3,
   "metadata": {},
   "outputs": [
    {
     "data": {
      "text/plain": [
       "\"\\nIf this last line of code doesn't work, run this:\\n\\nimport ssl\\nssl._create_default_https_context = ssl._create_unverified_context\\n\\n\""
      ]
     },
     "execution_count": 3,
     "metadata": {},
     "output_type": "execute_result"
    }
   ],
   "source": [
    "'''\n",
    "train_X is our input features' training data, train_y is our training\n",
    "target feature. And the same for the test_* case.\n",
    "'''\n",
    "\n",
    "(train_X, train_y), (test_X, test_y) = mnist.load_data()\n",
    "\n",
    "'''\n",
    "If this last line of code doesn't work, run this:\n",
    "\n",
    "import ssl\n",
    "ssl._create_default_https_context = ssl._create_unverified_context\n",
    "\n",
    "'''"
   ]
  },
  {
   "cell_type": "code",
   "execution_count": 4,
   "metadata": {},
   "outputs": [
    {
     "data": {
      "image/png": "[encoded data removed]",
      "text/plain": [
       "<Figure size 432x288 with 1 Axes>"
      ]
     },
     "metadata": {
      "needs_background": "light"
     },
     "output_type": "display_data"
    }
   ],
   "source": [
    "'''\n",
    "Insert any number between 0 and 60k to visualise one training data\n",
    "record. I put 4357 for example. BUT TRY SOME OTHER:\n",
    "'''\n",
    "SAMPLE_RECORD_NUMBER = 4357\n",
    "\n",
    "sample = train_X[SAMPLE_RECORD_NUMBER]\n",
    "plt.imshow(sample, cmap=plt.cm.binary)\n",
    "plt.show()"
   ]
  },
  {
   "cell_type": "code",
   "execution_count": 5,
   "metadata": {},
   "outputs": [
    {
     "data": {
      "text/plain": [
       "array([5, 0, 4, ..., 5, 6, 8], dtype=uint8)"
      ]
     },
     "execution_count": 5,
     "metadata": {},
     "output_type": "execute_result"
    }
   ],
   "source": [
    "'''\n",
    "Our class is:\n",
    "'''\n",
    "train_y\n",
    "\n",
    "# NOTE: All of the arrays and matrices you will see are Numpy arrays."
   ]
  },
  {
   "cell_type": "code",
   "execution_count": 6,
   "metadata": {},
   "outputs": [
    {
     "name": "stdout",
     "output_type": "stream",
     "text": [
      "The class label in position 4357 is: 8\n"
     ]
    }
   ],
   "source": [
    "'''\n",
    "And the element in the position we plotted above should be the same as\n",
    "the one we visually recognised in the image:\n",
    "'''\n",
    "print('The class label in position', SAMPLE_RECORD_NUMBER,'is:', train_y[SAMPLE_RECORD_NUMBER])"
   ]
  },
  {
   "cell_type": "code",
   "execution_count": 7,
   "metadata": {},
   "outputs": [
    {
     "name": "stdout",
     "output_type": "stream",
     "text": [
      "The sample number 45 has the class 9\n",
      "And this is the image:\n"
     ]
    },
    {
     "data": {
      "image/png": "[encoded data removed]",
      "text/plain": [
       "<Figure size 432x288 with 1 Axes>"
      ]
     },
     "metadata": {
      "needs_background": "light"
     },
     "output_type": "display_data"
    },
    {
     "name": "stdout",
     "output_type": "stream",
     "text": [
      "The sample number 534 has the class 6\n",
      "And this is the image:\n"
     ]
    },
    {
     "data": {
      "image/png": "[encoded data removed]",
      "text/plain": [
       "<Figure size 432x288 with 1 Axes>"
      ]
     },
     "metadata": {
      "needs_background": "light"
     },
     "output_type": "display_data"
    },
    {
     "name": "stdout",
     "output_type": "stream",
     "text": [
      "The sample number 6754 has the class 3\n",
      "And this is the image:\n"
     ]
    },
    {
     "data": {
      "image/png": "[encoded data removed]",
      "text/plain": [
       "<Figure size 432x288 with 1 Axes>"
      ]
     },
     "metadata": {
      "needs_background": "light"
     },
     "output_type": "display_data"
    },
    {
     "name": "stdout",
     "output_type": "stream",
     "text": [
      "The sample number 34232 has the class 7\n",
      "And this is the image:\n"
     ]
    },
    {
     "data": {
      "image/png": "[encoded data removed]",
      "text/plain": [
       "<Figure size 432x288 with 1 Axes>"
      ]
     },
     "metadata": {
      "needs_background": "light"
     },
     "output_type": "display_data"
    }
   ],
   "source": [
    "'''LET'S CHECK SOME MORE TRAINING SAMPLES: '''\n",
    "\n",
    "CHECK_SAMPLES = [45, 534, 6754, 34232]\n",
    "\n",
    "for s in CHECK_SAMPLES:\n",
    "    print('The sample number', s, 'has the class', train_y[s])\n",
    "    sample = train_X[s]\n",
    "    plt.imshow(sample, cmap=plt.cm.binary)\n",
    "    print('And this is the image:')\n",
    "    plt.show()"
   ]
  },
  {
   "cell_type": "markdown",
   "metadata": {},
   "source": [
    "### It's an 8!\n",
    "\n",
    "For us humans it is easy to understand that it is the number 8 (or any other digit shown up there). But can we build an ANN that can classify this image and return to us the number 8? \n",
    "\n",
    "**But first of all:**\n",
    "What are our input features?"
   ]
  },
  {
   "cell_type": "code",
   "execution_count": 8,
   "metadata": {},
   "outputs": [
    {
     "data": {
      "text/plain": [
       "(60000, 28, 28)"
      ]
     },
     "execution_count": 8,
     "metadata": {},
     "output_type": "execute_result"
    }
   ],
   "source": [
    "train_X.shape"
   ]
  },
  {
   "cell_type": "markdown",
   "metadata": {},
   "source": [
    "We can see that our training data is 3-dimensional: 60k pictures, and each one of them is a matrix of 28x28 pixels.\n",
    "\n",
    "Then, it would be natural if our input layer has 28x28=784 neurons.\n",
    "\n",
    "_Yes, our data has 784 input features!_. This would be something crazy for any of the supervised classification models we saw in the Introduction of Machine Learning course.\n",
    "\n",
    "All of the input features are integer numbers between 0 and 255. More concretely, 8-bit unsigned integers:"
   ]
  },
  {
   "cell_type": "code",
   "execution_count": 9,
   "metadata": {},
   "outputs": [
    {
     "data": {
      "text/plain": [
       "dtype('uint8')"
      ]
     },
     "execution_count": 9,
     "metadata": {},
     "output_type": "execute_result"
    }
   ],
   "source": [
    "train_X.dtype"
   ]
  },
  {
   "cell_type": "markdown",
   "metadata": {},
   "source": [
    "## Hello World Deep Learning:\n",
    "\n",
    "#### 5 STEPS:\n",
    "1. We define the structure of our ANN\n",
    "2. We \"compile\" the ANN with a cost function (cross-entropy is good as we saw in the slides), an optimisation algorithm (SGD), and a performance metric (accuracy, recall, AUC, etc).\n",
    "3. We prepare and reshape the dataset\n",
    "4. We fit the compiled model to our dataset\n",
    "5. We evaluate our model using the test data"
   ]
  },
  {
   "cell_type": "code",
   "execution_count": 10,
   "metadata": {},
   "outputs": [],
   "source": [
    "# STEP 1\n",
    "\n",
    "from keras import layers, models\n",
    "\n",
    "# This is a Deep Feedforward Neural Net like we saw in the slides\n",
    "myfirstANN = models.Sequential() \n",
    "\n",
    "# We now add layers. We do not need to add the input layer.\n",
    "# So we are just adding one hidden layer and then the output layer.\n",
    "'''\n",
    "In the hidden layer, we want to reduce the 784 features to something\n",
    "smaller (reduce the complexity of the images), but not too small (so we\n",
    "don't lose too much information too suddenly). A multiple of two always\n",
    "helps the computation time (in both CPUs and GPUs).\n",
    "'''\n",
    "HIDDEN_NEURONS = 512\n",
    "\n",
    "# (check the slides to make sense of these lines of code)\n",
    "myfirstANN.add(\n",
    "    layers.Dense(HIDDEN_NEURONS, \n",
    "                 activation='relu', \n",
    "                 input_shape=(28*28, ) # It's good to specify the input: a vector of 784 values (28*28)\n",
    "                )\n",
    ")\n",
    "\n",
    "myfirstANN.add(\n",
    "    layers.Dense(10, # We have 10 classes, so 10 output neurons \n",
    "                 activation='softmax'\n",
    "    )\n",
    ")"
   ]
  },
  {
   "cell_type": "code",
   "execution_count": 11,
   "metadata": {},
   "outputs": [],
   "source": [
    "# STEP 2\n",
    "\n",
    "# You can also try 'SGD' for Stochastic Gradient Descent as optimizer, but it doesn't perform that well. \n",
    "# We will see more optimisers, like this 'rmsprop' one, later in the course.\n",
    "# But just for you to know: 'rmsprop' is a variant of SGD with some additional properties.\n",
    "myfirstANN.compile(\n",
    "    optimizer='rmsprop', \n",
    "    loss='categorical_crossentropy',\n",
    "    metrics=['accuracy'] # We could add more metrics\n",
    ")"
   ]
  },
  {
   "cell_type": "code",
   "execution_count": 12,
   "metadata": {},
   "outputs": [],
   "source": [
    "# STEP 3\n",
    "\n",
    "# From a 60000*28*28 (3D), we make it 60000*784 (2D)\n",
    "processed_train_X = train_X.reshape((60000, 28*28))\n",
    "\n",
    "# We will also normalise the values in [0, 1], instead of [0, 255]:\n",
    "processed_train_X = processed_train_X.astype('float32') / 255\n",
    "\n",
    "# And the same for the test data:\n",
    "processed_test_X = test_X.reshape((10000, 28*28))\n",
    "processed_test_X = processed_test_X.astype('float32') / 255\n",
    "\n",
    "# We will explicitly make our target features categorical.\n",
    "# Because they are numbers, the ANN might get confused and perform some\n",
    "# regression if we don't do this.\n",
    "from keras.utils import to_categorical\n",
    "\n",
    "processed_train_y = to_categorical(train_y)\n",
    "processed_test_y = to_categorical(test_y)"
   ]
  },
  {
   "cell_type": "code",
   "execution_count": 13,
   "metadata": {},
   "outputs": [
    {
     "name": "stdout",
     "output_type": "stream",
     "text": [
      "Epoch 1/10\n",
      "469/469 [==============================] - 4s 8ms/step - loss: 0.2583 - accuracy: 0.9244\n",
      "Epoch 2/10\n",
      "469/469 [==============================] - 4s 8ms/step - loss: 0.1047 - accuracy: 0.9691\n",
      "Epoch 3/10\n",
      "469/469 [==============================] - 4s 7ms/step - loss: 0.0699 - accuracy: 0.9790\n",
      "Epoch 4/10\n",
      "469/469 [==============================] - 4s 8ms/step - loss: 0.0513 - accuracy: 0.9844\n",
      "Epoch 5/10\n",
      "469/469 [==============================] - 3s 7ms/step - loss: 0.0381 - accuracy: 0.9887\n",
      "Epoch 6/10\n",
      "469/469 [==============================] - 3s 7ms/step - loss: 0.0291 - accuracy: 0.9913\n",
      "Epoch 7/10\n",
      "469/469 [==============================] - 4s 8ms/step - loss: 0.0224 - accuracy: 0.9933\n",
      "Epoch 8/10\n",
      "469/469 [==============================] - 4s 8ms/step - loss: 0.0167 - accuracy: 0.9951\n",
      "Epoch 9/10\n",
      "469/469 [==============================] - 4s 7ms/step - loss: 0.0135 - accuracy: 0.9962\n",
      "Epoch 10/10\n",
      "469/469 [==============================] - 3s 7ms/step - loss: 0.0103 - accuracy: 0.9972\n"
     ]
    },
    {
     "data": {
      "text/plain": [
       "<tensorflow.python.keras.callbacks.History at 0x1315157f0>"
      ]
     },
     "execution_count": 13,
     "metadata": {},
     "output_type": "execute_result"
    }
   ],
   "source": [
    "# STEP 4 - THE FUN\n",
    "\n",
    "# We will see what the batch_size is for later in the course. \n",
    "# But in short this helps us just selecting some of the training data each time we run a gradient-descent iteration\n",
    "\n",
    "# NUM ITERATIONS FOR GRADIENT DESCENT:\n",
    "num_iter = 10\n",
    "\n",
    "# This method is very similar as those of Sklearn:\n",
    "myfirstANN.fit(processed_train_X, processed_train_y, epochs=num_iter, batch_size=128)"
   ]
  },
  {
   "cell_type": "markdown",
   "metadata": {},
   "source": [
    "**While it runs**, let's analyse what is happening there:\n",
    "\n",
    "In each iteration, our loss function should have become smaller, and probably our accuracy go higher and higher: _You have just seen your gradient-based optimisation process with backpropagation in action!_\n",
    "\n",
    "If you run this last code cell again, you will see your loss becoming smaller and your accuracy becoming larger (if possible). This is because if you run fit again, you will run the optimisation process with your latest values, so it will be like just running more iterations (epochs) on top of your last model.\n",
    "\n",
    "As a learning exercise you can try to fit a RandomForest and/or a SVM model to this data, and see what kind of accuracy you will be getting."
   ]
  },
  {
   "cell_type": "code",
   "execution_count": 14,
   "metadata": {},
   "outputs": [
    {
     "name": "stdout",
     "output_type": "stream",
     "text": [
      "313/313 [==============================] - 1s 2ms/step - loss: 0.0763 - accuracy: 0.9801\n",
      "Accuracy in the testing data: 0.9800999760627747\n"
     ]
    }
   ],
   "source": [
    "# STEP 5\n",
    "\n",
    "test_loss, test_acc = myfirstANN.evaluate(processed_test_X, processed_test_y)\n",
    "print('Accuracy in the testing data:', test_acc)"
   ]
  },
  {
   "cell_type": "markdown",
   "metadata": {},
   "source": [
    "The difference in accuracies between the training data and the testing data represents how overfit your model is. The greater the difference, usually with testing accuracy lower, the more _overfit just to work with the training data_ your model is. \n",
    "\n",
    "My testing accuracy is 0.9821, while my training is 0.9961. My model is slightly overfit (maybe running less epochs will help)."
   ]
  },
  {
   "cell_type": "code",
   "execution_count": 15,
   "metadata": {},
   "outputs": [],
   "source": [
    "# For any lower-level stuff we will need TensorFlow (or could have used Sklearn in this case)\n",
    "# Because we want to display the confusion matrix:\n",
    "import tensorflow as tf\n",
    "import numpy as np"
   ]
  },
  {
   "cell_type": "code",
   "execution_count": 16,
   "metadata": {},
   "outputs": [],
   "source": [
    "pred_classes = np.argmax(myfirstANN.predict(processed_test_X), axis=-1) # Take the neuron with the highest softmax probability\n",
    "\n",
    "test_classes = np.argmax(processed_test_y, axis=-1) # The same..."
   ]
  },
  {
   "cell_type": "code",
   "execution_count": 17,
   "metadata": {},
   "outputs": [],
   "source": [
    "conf_mat = tf.math.confusion_matrix(labels=test_classes, predictions=pred_classes)"
   ]
  },
  {
   "cell_type": "code",
   "execution_count": 18,
   "metadata": {},
   "outputs": [
    {
     "data": {
      "text/plain": [
       "<tf.Tensor: shape=(10, 10), dtype=int32, numpy=\n",
       "array([[ 969,    0,    0,    0,    2,    0,    2,    2,    4,    1],\n",
       "       [   0, 1126,    3,    1,    0,    1,    2,    0,    2,    0],\n",
       "       [   1,    2, 1003,    5,    3,    0,    2,    6,    9,    1],\n",
       "       [   0,    0,    0,  994,    0,    4,    0,    3,    5,    4],\n",
       "       [   1,    0,    2,    1,  966,    0,    2,    2,    0,    8],\n",
       "       [   2,    0,    0,    4,    1,  874,    3,    0,    6,    2],\n",
       "       [   4,    2,    0,    1,   13,    4,  929,    0,    5,    0],\n",
       "       [   0,    4,    8,    4,    1,    0,    0, 1001,    4,    6],\n",
       "       [   2,    0,    1,    3,    4,    2,    0,    2,  956,    4],\n",
       "       [   1,    2,    0,    5,    7,    2,    0,    5,    4,  983]],\n",
       "      dtype=int32)>"
      ]
     },
     "execution_count": 18,
     "metadata": {},
     "output_type": "execute_result"
    }
   ],
   "source": [
    "conf_mat"
   ]
  },
  {
   "cell_type": "code",
   "execution_count": 19,
   "metadata": {},
   "outputs": [
    {
     "name": "stdout",
     "output_type": "stream",
     "text": [
      "The real number was 4 and we predicted 9\n",
      "And this is the image:\n"
     ]
    },
    {
     "data": {
      "image/png": "[encoded data removed]",
      "text/plain": [
       "<Figure size 432x288 with 1 Axes>"
      ]
     },
     "metadata": {
      "needs_background": "light"
     },
     "output_type": "display_data"
    },
    {
     "name": "stdout",
     "output_type": "stream",
     "text": [
      "--------------------------------------------------\n",
      "The real number was 2 and we predicted 8\n",
      "And this is the image:\n"
     ]
    },
    {
     "data": {
      "image/png": "[encoded data removed]",
      "text/plain": [
       "<Figure size 432x288 with 1 Axes>"
      ]
     },
     "metadata": {
      "needs_background": "light"
     },
     "output_type": "display_data"
    },
    {
     "name": "stdout",
     "output_type": "stream",
     "text": [
      "--------------------------------------------------\n",
      "The real number was 2 and we predicted 9\n",
      "And this is the image:\n"
     ]
    },
    {
     "data": {
      "image/png": "[encoded data removed]",
      "text/plain": [
       "<Figure size 432x288 with 1 Axes>"
      ]
     },
     "metadata": {
      "needs_background": "light"
     },
     "output_type": "display_data"
    },
    {
     "name": "stdout",
     "output_type": "stream",
     "text": [
      "--------------------------------------------------\n",
      "The real number was 9 and we predicted 8\n",
      "And this is the image:\n"
     ]
    },
    {
     "data": {
      "image/png": "[encoded data removed]",
      "text/plain": [
       "<Figure size 432x288 with 1 Axes>"
      ]
     },
     "metadata": {
      "needs_background": "light"
     },
     "output_type": "display_data"
    },
    {
     "name": "stdout",
     "output_type": "stream",
     "text": [
      "--------------------------------------------------\n",
      "The real number was 4 and we predicted 2\n",
      "And this is the image:\n"
     ]
    },
    {
     "data": {
      "image/png": "[encoded data removed]",
      "text/plain": [
       "<Figure size 432x288 with 1 Axes>"
      ]
     },
     "metadata": {
      "needs_background": "light"
     },
     "output_type": "display_data"
    },
    {
     "name": "stdout",
     "output_type": "stream",
     "text": [
      "--------------------------------------------------\n",
      "The real number was 2 and we predicted 7\n",
      "And this is the image:\n"
     ]
    },
    {
     "data": {
      "image/png": "[encoded data removed]",
      "text/plain": [
       "<Figure size 432x288 with 1 Axes>"
      ]
     },
     "metadata": {
      "needs_background": "light"
     },
     "output_type": "display_data"
    },
    {
     "name": "stdout",
     "output_type": "stream",
     "text": [
      "--------------------------------------------------\n",
      "The real number was 5 and we predicted 3\n",
      "And this is the image:\n"
     ]
    },
    {
     "data": {
      "image/png": "[encoded data removed]",
      "text/plain": [
       "<Figure size 432x288 with 1 Axes>"
      ]
     },
     "metadata": {
      "needs_background": "light"
     },
     "output_type": "display_data"
    },
    {
     "name": "stdout",
     "output_type": "stream",
     "text": [
      "--------------------------------------------------\n",
      "The real number was 6 and we predicted 0\n",
      "And this is the image:\n"
     ]
    },
    {
     "data": {
      "image/png": "[encoded data removed]",
      "text/plain": [
       "<Figure size 432x288 with 1 Axes>"
      ]
     },
     "metadata": {
      "needs_background": "light"
     },
     "output_type": "display_data"
    },
    {
     "name": "stdout",
     "output_type": "stream",
     "text": [
      "--------------------------------------------------\n",
      "The real number was 4 and we predicted 9\n",
      "And this is the image:\n"
     ]
    },
    {
     "data": {
      "image/png": "[encoded data removed]",
      "text/plain": [
       "<Figure size 432x288 with 1 Axes>"
      ]
     },
     "metadata": {
      "needs_background": "light"
     },
     "output_type": "display_data"
    },
    {
     "name": "stdout",
     "output_type": "stream",
     "text": [
      "--------------------------------------------------\n",
      "The real number was 9 and we predicted 8\n",
      "And this is the image:\n"
     ]
    },
    {
     "data": {
      "image/png": "[encoded data removed]",
      "text/plain": [
       "<Figure size 432x288 with 1 Axes>"
      ]
     },
     "metadata": {
      "needs_background": "light"
     },
     "output_type": "display_data"
    },
    {
     "name": "stdout",
     "output_type": "stream",
     "text": [
      "--------------------------------------------------\n"
     ]
    }
   ],
   "source": [
    "# Let's check some of the test samples we misclassified and see if they make sense:\n",
    "\n",
    "MISCLASSIF_TO_CHECK = 10\n",
    "\n",
    "index=0\n",
    "misclassif_checked = 0\n",
    "\n",
    "for r, p in zip(test_classes, pred_classes):\n",
    "    if r!=p:\n",
    "        misclassif_checked+=1\n",
    "        print('The real number was', r, 'and we predicted',p)\n",
    "        got_wrong = test_X[index]\n",
    "        plt.imshow(got_wrong, cmap=plt.cm.binary)\n",
    "        print('And this is the image:')\n",
    "        plt.show()\n",
    "        print('--------------------------------------------------')\n",
    "    if misclassif_checked == MISCLASSIF_TO_CHECK:\n",
    "        break\n",
    "    index += 1"
   ]
  },
  {
   "cell_type": "markdown",
   "metadata": {},
   "source": [
    "As you can see, this Deep Learning classifier is working great to recognise those images and discover which digit they represent.\n",
    "\n",
    "And most of the images that we got wrong actually makes sense: Even us as humans might doubt of what number is there written.\n",
    "\n",
    "It makes sense that the classes it has confused the most are the number 9 with the number 4 (similar hand-written shape), although those were just 11 times in my execution."
   ]
  },
  {
   "cell_type": "markdown",
   "metadata": {},
   "source": [
    "## Learning questions:\n",
    "\n",
    "This is your playground. Enjoy.\n",
    "\n",
    "Add layers, add neurons, change the number of epochs, try SGD, ...\n",
    "\n",
    "What is the highest testing accuracy you can achieve? Send it to me!"
   ]
  },
  {
   "cell_type": "code",
   "execution_count": null,
   "metadata": {},
   "outputs": [],
   "source": []
  },
  {
   "cell_type": "code",
   "execution_count": null,
   "metadata": {},
   "outputs": [],
   "source": []
  }
 ],
 "metadata": {
  "kernelspec": {
   "display_name": "Python 3 (ipykernel)",
   "language": "python",
   "name": "python3"
  },
  "language_info": {
   "codemirror_mode": {
    "name": "ipython",
    "version": 3
   },
   "file_extension": ".py",
   "mimetype": "text/x-python",
   "name": "python",
   "nbconvert_exporter": "python",
   "pygments_lexer": "ipython3",
   "version": "3.11.4"
  }
 },
 "nbformat": 4,
 "nbformat_minor": 4
}
