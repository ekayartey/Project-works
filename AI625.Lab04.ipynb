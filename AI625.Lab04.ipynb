{
 "cells": [
  {
   "cell_type": "markdown",
   "metadata": {},
   "source": [
    "## A bit more advanced example\n",
    "\n",
    "Binary classification.\n",
    "\n",
    "Keras also includes an [IMDB](https://www.imdb.com) (Internet Movie Database) dataset. \n",
    "\n",
    "This dataset contains 50k movie reviews from the users of the website. All the reviews are either very positive, or very negative.\n",
    "\n",
    "The 50k reviews are split into 25k for training, and 25k for testing, and in each one of those data splits, 50% of the reviews are positive and 50% are negative. Therefore, the classes are perfectly balanced.\n",
    "\n",
    "The reviews have already been pre-processed, and for memory efficiency, the words have been converted to integers. So the bare reviews you will see in the training data come as integers and therefore are unreadable as they come. But since each integer represents a work in the English dictionary, we can easily reconstruct the original reviews.\n",
    "\n"
   ]
  },
  {
   "cell_type": "code",
   "execution_count": 1,
   "metadata": {},
   "outputs": [],
   "source": [
    "from keras.datasets import imdb\n",
    "from keras import layers, models\n",
    "\n",
    "import numpy as np\n",
    "\n",
    "import matplotlib.pyplot as plt"
   ]
  },
  {
   "cell_type": "code",
   "execution_count": 2,
   "metadata": {},
   "outputs": [
    {
     "data": {
      "text/plain": [
       "\"\\nAgain, if this last line of code doesn't work, run this:\\n\\nimport ssl\\nssl._create_default_https_context = ssl._create_unverified_context\\n\\n\""
      ]
     },
     "execution_count": 2,
     "metadata": {},
     "output_type": "execute_result"
    }
   ],
   "source": [
    "'''\n",
    "The num_words parameter in this load_data function is to take the top 10000 most common words in all of the reviews.\n",
    "Uncommon words will not be loaded.\n",
    "'''\n",
    "NUM_MOST_COMMON_WORDS = 10000\n",
    "\n",
    "(train_X, train_y), (test_X, test_y) = imdb.load_data(num_words=NUM_MOST_COMMON_WORDS)\n",
    "\n",
    "'''\n",
    "Again, if this last line of code doesn't work, run this:\n",
    "\n",
    "import ssl\n",
    "ssl._create_default_https_context = ssl._create_unverified_context\n",
    "\n",
    "'''"
   ]
  },
  {
   "cell_type": "code",
   "execution_count": 3,
   "metadata": {},
   "outputs": [],
   "source": [
    "# This is just a function to reconstruct a message, so we can explore the training data:\n",
    "invert_dictionary = imdb.get_word_index() # Word to integer dictionary given by the dataset\n",
    "dictionary = {value: key for key, value in invert_dictionary.items()}\n",
    "\n",
    "\n",
    "def reconstruct_message(sample):\n",
    "    review = ' '.join(dictionary[i-3] for i in sample if i-3 in dictionary)\n",
    "    return review"
   ]
  },
  {
   "cell_type": "code",
   "execution_count": 4,
   "metadata": {},
   "outputs": [
    {
     "name": "stdout",
     "output_type": "stream",
     "text": [
      "worst mistake of my life br br i picked this movie up at target for 5 because i figured hey it's sandler i can get some cheap laughs i was wrong completely wrong mid way through the film all three of my friends were asleep and i was still suffering worst plot worst script worst movie i have ever seen i wanted to hit my head up against a wall for an hour then i'd stop and you know why because it felt damn good upon bashing my head in i stuck that damn movie in the and watched it burn and that felt better than anything else i've ever done it took american psycho army of darkness and kill bill just to get over that crap i hate you sandler for actually going through with this and ruining a whole day of my life\n",
      "------------------------------------------------------------------------------------\n",
      "\n",
      "i'm probably one of the biggest nancy drew fans out there i've read every book three times over and i've played a lot of the nancy drew games i loved this movie it kept you entertained the whole time you watched it i went with about 10 of my friends and everyone loved it there were three woman sitting behind us who appeared to be in their late 30's to early 40's and i asked them how they liked it they said they loved it so you see it will be an entertainment to all ages you just have to give it a chance and it teaches a lesson too just be yourself even if everyone around you is exactly alike so overall this move was great i'm going to see it a second time now so stop bashing it please its a really good movie\n",
      "------------------------------------------------------------------------------------\n",
      "\n",
      "mike gordon is witness to the brutal murder of his mother and suicide of his father jon twenty years later mike a group of his friends to his family's cabin in the woods for a halloween party while playing a game where the guests confess and confront their worst fears mike tries to the spirit of his late father it is soon discovered that spirit a wooden indian in the cabin the statue comes to life and the blood bath begins br br most of the f x are not very convincing and the movie takes on a cheap teen slasher theme stale story acted cast members of note are kelly benson phillip rhys byron chief moon and veteran actress\n",
      "------------------------------------------------------------------------------------\n",
      "\n",
      "this movie is not as good as all the movies of christ i've ever seen and i'm quite amazed that in this story wants to finish jesus when the as well the other movies state differently it lacks also a very important issue the none of the other movies skip this very important part the faith of all of us christians lies in this very event as paul says in one of his letters if christ did not rise from the dead our faith is vain a very impressive scene for me in this movie was seeing on the streets the remains of the that were used when jesus entered br br finally and in opposition to my jewish co jesus was not a myth and as a matter of fact he was also a jew there are plenty of documents and that prove the existence of this extraordinary man or should i said god become a man that indeed changed mankind i strongly advise him given he is a to read about the most brilliant jewish of the 1st century\n",
      "------------------------------------------------------------------------------------\n",
      "\n"
     ]
    }
   ],
   "source": [
    "# Feel free to add/remove indices here to check different reviews:\n",
    "REVIEWS_TO_CHECK = [4, 64, 9876, 15543]\n",
    "\n",
    "for r in REVIEWS_TO_CHECK:\n",
    "    print(reconstruct_message(train_X[r]))\n",
    "    print('------------------------------------------------------------------------------------')\n",
    "    print()"
   ]
  },
  {
   "cell_type": "markdown",
   "metadata": {},
   "source": [
    "We cannot feed a list of integers (or a list of words) directly into a neural network. We have to vectorise these lists (covert them into **tensors** - more on tensors shortly). \n",
    "\n",
    "We are going to use a simple transformation to vectorise them:\n",
    "1. Create a list of 10000 integers, filled with 0s\n",
    "2. If the word with index 40 (remember the words are integers) is in the review, then the 40th position in the previous list is set to 1\n",
    "\n",
    "We will do those two steps with Numpy"
   ]
  },
  {
   "cell_type": "code",
   "execution_count": 5,
   "metadata": {},
   "outputs": [],
   "source": [
    "def vectorise_reviews(reviews_data, input_features=NUM_MOST_COMMON_WORDS):\n",
    "    result = np.zeros((len(reviews_data), input_features))\n",
    "    for review, word in enumerate(reviews_data):\n",
    "        result[review, word] = 1\n",
    "    return result"
   ]
  },
  {
   "cell_type": "code",
   "execution_count": 6,
   "metadata": {},
   "outputs": [],
   "source": [
    "vect_train_X = vectorise_reviews(train_X)\n",
    "vect_test_X = vectorise_reviews(test_X)"
   ]
  },
  {
   "cell_type": "code",
   "execution_count": 7,
   "metadata": {},
   "outputs": [],
   "source": [
    "# The labels are "
   ]
  },
  {
   "cell_type": "code",
   "execution_count": 8,
   "metadata": {},
   "outputs": [
    {
     "data": {
      "text/plain": [
       "dtype('int64')"
      ]
     },
     "execution_count": 8,
     "metadata": {},
     "output_type": "execute_result"
    }
   ],
   "source": [
    "train_y.dtype"
   ]
  },
  {
   "cell_type": "markdown",
   "metadata": {},
   "source": [
    "## Model architecture definition:"
   ]
  },
  {
   "cell_type": "code",
   "execution_count": 9,
   "metadata": {},
   "outputs": [],
   "source": [
    "# This is a Deep Feedforward Neural Net like we saw in the slides\n",
    "model = models.Sequential() \n",
    "\n",
    "'''\n",
    "We now add layers. As we mentioned in the previous interactive activity We do not need to add \n",
    "the input layer in Keras. However, I am now explicitly adding it so we don't have to declare the input_shape\n",
    "parameter in the first hidden layer.\n",
    "\n",
    "This time we are adding 2 hidden layers and then the output layer.\n",
    "NOTE: I am putting 16 hidden neurons, but feel free to change it.\n",
    "(check the slides to make sense of these lines of code)\n",
    "'''\n",
    "\n",
    "model.add(layers.Input(shape=(10000,)))\n",
    "model.add(layers.Dense(16, activation='relu'))\n",
    "model.add(layers.Dense(16, activation='relu'))\n",
    "\n",
    "# We have 2 classes, so 1 sigmoid neuron that outputs the probability of being one class or another is enough\n",
    "model.add(layers.Dense(1, activation='sigmoid'))"
   ]
  },
  {
   "cell_type": "markdown",
   "metadata": {},
   "source": [
    "## Model compilation:"
   ]
  },
  {
   "cell_type": "code",
   "execution_count": 10,
   "metadata": {},
   "outputs": [],
   "source": [
    "# Notice that Keras includes different versions of the negative log likelihood (cross-entropy) function...\n",
    "# depending on the output type of our ANN \n",
    "# (in the previous interactive activity was categorical/multi-class, now is binary)\n",
    "model.compile(optimizer='rmsprop', loss='binary_crossentropy', metrics=['accuracy'])\n",
    "\n",
    "# As we will see in the future, we could define our own loss functions and performance metrics and pass them to Keras"
   ]
  },
  {
   "cell_type": "markdown",
   "metadata": {},
   "source": [
    "## Validation set:\n",
    "\n",
    "This time we will do it slightly different. We will build a validation set to do a first check on our fitted model.\n",
    "\n",
    "For build this, we will set apart the first 10k samples from the training data."
   ]
  },
  {
   "cell_type": "code",
   "execution_count": 11,
   "metadata": {},
   "outputs": [],
   "source": [
    "val_X = vect_train_X[:10000]\n",
    "remaining_train_X = vect_train_X[10000:]\n",
    "\n",
    "val_y = train_y[:10000]\n",
    "remaining_train_y = train_y[10000:]"
   ]
  },
  {
   "cell_type": "markdown",
   "metadata": {},
   "source": [
    "And now we can directly use that validation dataset during our optimisation process, to check how we expect the model to behave with the test data later on!\n",
    "\n",
    "Keras implements this very neatly:"
   ]
  },
  {
   "cell_type": "code",
   "execution_count": 12,
   "metadata": {},
   "outputs": [
    {
     "name": "stdout",
     "output_type": "stream",
     "text": [
      "Epoch 1/20\n",
      "30/30 [==============================] - 4s 124ms/step - loss: 0.5396 - accuracy: 0.7790 - val_loss: 0.4339 - val_accuracy: 0.8410\n",
      "Epoch 2/20\n",
      "30/30 [==============================] - 1s 26ms/step - loss: 0.3250 - accuracy: 0.8996 - val_loss: 0.3270 - val_accuracy: 0.8732\n",
      "Epoch 3/20\n",
      "30/30 [==============================] - 1s 24ms/step - loss: 0.2385 - accuracy: 0.9229 - val_loss: 0.2887 - val_accuracy: 0.8873\n",
      "Epoch 4/20\n",
      "30/30 [==============================] - 1s 32ms/step - loss: 0.1850 - accuracy: 0.9413 - val_loss: 0.2770 - val_accuracy: 0.8924\n",
      "Epoch 5/20\n",
      "30/30 [==============================] - 1s 29ms/step - loss: 0.1520 - accuracy: 0.9509 - val_loss: 0.2785 - val_accuracy: 0.8883\n",
      "Epoch 6/20\n",
      "30/30 [==============================] - 1s 25ms/step - loss: 0.1249 - accuracy: 0.9602 - val_loss: 0.2901 - val_accuracy: 0.8860\n",
      "Epoch 7/20\n",
      "30/30 [==============================] - 1s 22ms/step - loss: 0.1037 - accuracy: 0.9678 - val_loss: 0.3057 - val_accuracy: 0.8857\n",
      "Epoch 8/20\n",
      "30/30 [==============================] - 1s 23ms/step - loss: 0.0863 - accuracy: 0.9742 - val_loss: 0.3269 - val_accuracy: 0.8816\n",
      "Epoch 9/20\n",
      "30/30 [==============================] - 1s 24ms/step - loss: 0.0705 - accuracy: 0.9802 - val_loss: 0.3558 - val_accuracy: 0.8812\n",
      "Epoch 10/20\n",
      "30/30 [==============================] - 1s 22ms/step - loss: 0.0580 - accuracy: 0.9843 - val_loss: 0.3803 - val_accuracy: 0.8740\n",
      "Epoch 11/20\n",
      "30/30 [==============================] - 1s 22ms/step - loss: 0.0498 - accuracy: 0.9889 - val_loss: 0.4047 - val_accuracy: 0.8787\n",
      "Epoch 12/20\n",
      "30/30 [==============================] - 1s 25ms/step - loss: 0.0376 - accuracy: 0.9921 - val_loss: 0.4411 - val_accuracy: 0.8675\n",
      "Epoch 13/20\n",
      "30/30 [==============================] - 1s 23ms/step - loss: 0.0309 - accuracy: 0.9941 - val_loss: 0.5285 - val_accuracy: 0.8665\n",
      "Epoch 14/20\n",
      "30/30 [==============================] - 1s 23ms/step - loss: 0.0251 - accuracy: 0.9953 - val_loss: 0.5024 - val_accuracy: 0.8745\n",
      "Epoch 15/20\n",
      "30/30 [==============================] - 1s 25ms/step - loss: 0.0192 - accuracy: 0.9969 - val_loss: 0.5279 - val_accuracy: 0.8701\n",
      "Epoch 16/20\n",
      "30/30 [==============================] - 1s 22ms/step - loss: 0.0156 - accuracy: 0.9974 - val_loss: 0.5711 - val_accuracy: 0.8711\n",
      "Epoch 17/20\n",
      "30/30 [==============================] - 1s 22ms/step - loss: 0.0129 - accuracy: 0.9984 - val_loss: 0.6016 - val_accuracy: 0.8704\n",
      "Epoch 18/20\n",
      "30/30 [==============================] - 1s 21ms/step - loss: 0.0107 - accuracy: 0.9985 - val_loss: 0.6297 - val_accuracy: 0.8675\n",
      "Epoch 19/20\n",
      "30/30 [==============================] - 1s 23ms/step - loss: 0.0056 - accuracy: 0.9998 - val_loss: 0.6676 - val_accuracy: 0.8662\n",
      "Epoch 20/20\n",
      "30/30 [==============================] - 1s 24ms/step - loss: 0.0070 - accuracy: 0.9989 - val_loss: 0.7059 - val_accuracy: 0.8657\n"
     ]
    }
   ],
   "source": [
    "history = model.fit(\n",
    "    remaining_train_X,\n",
    "    remaining_train_y,\n",
    "    epochs=20,\n",
    "    batch_size=512,\n",
    "    validation_data=(val_X, val_y)\n",
    ")"
   ]
  },
  {
   "cell_type": "markdown",
   "metadata": {},
   "source": [
    "Notice that between each epoch there is a small delay. This is because Keras is calculating the predictions for the validation dataset.\n",
    "\n",
    "And also for each epoch we are not getting the `val_loss` and `val_accuracy` parameters, which mean exactly what you are thinking: the loss and accuracies obtained after predicting for the validation test using that epoch's ANN configuration.\n",
    "\n",
    "As you can clearly see, the fact that our training accuracy is becoming higher (and the training loss lower) doesn't mean that our validation accuracies and/or loss are also improving! This is because our model is likely to be overfitting.\n",
    "\n",
    "Let's plot them from the `history` we got when fitting our ANN:"
   ]
  },
  {
   "cell_type": "code",
   "execution_count": 13,
   "metadata": {},
   "outputs": [
    {
     "name": "stdout",
     "output_type": "stream",
     "text": [
      "We have these parameters stored in our fitting history:\n"
     ]
    },
    {
     "data": {
      "text/plain": [
       "dict_keys(['loss', 'accuracy', 'val_loss', 'val_accuracy'])"
      ]
     },
     "execution_count": 13,
     "metadata": {},
     "output_type": "execute_result"
    }
   ],
   "source": [
    "history_dict = history.history\n",
    "print('We have these parameters stored in our fitting history:')\n",
    "history_dict.keys()"
   ]
  },
  {
   "cell_type": "code",
   "execution_count": 14,
   "metadata": {},
   "outputs": [],
   "source": [
    "# Preparing some data for the plot:\n",
    "accuracies = history_dict['accuracy']\n",
    "val_accuracies = history_dict['val_accuracy']\n",
    "epochs = range(1, len(accuracies)+1)"
   ]
  },
  {
   "cell_type": "code",
   "execution_count": 15,
   "metadata": {},
   "outputs": [
    {
     "data": {
      "image/png": "[encoded data removed]",
      "text/plain": [
       "<Figure size 432x288 with 1 Axes>"
      ]
     },
     "metadata": {
      "needs_background": "light"
     },
     "output_type": "display_data"
    }
   ],
   "source": [
    "plt.plot(epochs, accuracies, 'ro', label='Training accuracy')\n",
    "plt.plot(epochs, val_accuracies, 'b', label='Validation accuracy')\n",
    "plt.title('Training and Validation Accuracies over the optimisation Epochs')\n",
    "plt.xlabel('Epochs')\n",
    "plt.ylabel('Accuracy')\n",
    "plt.legend()\n",
    "plt.show()"
   ]
  },
  {
   "cell_type": "markdown",
   "metadata": {},
   "source": [
    "In the plot above we can see that our Validation Accuracy peaked between the 3rd and the 5th epoch. After that, our ANN became more and more overfitted to the training data, without making any progress on other data.\n",
    "\n",
    "Let's re-fit our model but with just 4 epochs and see if the test accuracy we get is similar to the validation one:"
   ]
  },
  {
   "cell_type": "code",
   "execution_count": 16,
   "metadata": {},
   "outputs": [
    {
     "name": "stdout",
     "output_type": "stream",
     "text": [
      "Epoch 1/4\n",
      "30/30 [==============================] - 2s 61ms/step - loss: 0.5041 - accuracy: 0.7903 - val_loss: 0.3944 - val_accuracy: 0.8487\n",
      "Epoch 2/4\n",
      "30/30 [==============================] - 1s 21ms/step - loss: 0.2947 - accuracy: 0.9025 - val_loss: 0.3133 - val_accuracy: 0.8749\n",
      "Epoch 3/4\n",
      "30/30 [==============================] - 1s 22ms/step - loss: 0.2166 - accuracy: 0.9285 - val_loss: 0.2969 - val_accuracy: 0.8802\n",
      "Epoch 4/4\n",
      "30/30 [==============================] - 1s 25ms/step - loss: 0.1707 - accuracy: 0.9445 - val_loss: 0.2748 - val_accuracy: 0.8901\n"
     ]
    }
   ],
   "source": [
    "model2 = models.Sequential()\n",
    "model2.add(layers.Input(shape=(10000,)))\n",
    "model2.add(layers.Dense(16, activation='relu'))\n",
    "model2.add(layers.Dense(16, activation='relu'))\n",
    "model2.add(layers.Dense(1, activation='sigmoid'))\n",
    "model2.compile(optimizer='rmsprop', loss='binary_crossentropy', metrics=['accuracy'])\n",
    "history2 = model2.fit(\n",
    "    remaining_train_X,\n",
    "    remaining_train_y,\n",
    "    epochs=4, # The best Epoch we found before it became overfitted!\n",
    "    batch_size=512,\n",
    "    validation_data=(val_X, val_y)\n",
    ")"
   ]
  },
  {
   "cell_type": "code",
   "execution_count": 17,
   "metadata": {},
   "outputs": [
    {
     "name": "stdout",
     "output_type": "stream",
     "text": [
      "782/782 [==============================] - 2s 3ms/step - loss: 0.2942 - accuracy: 0.8828\n"
     ]
    }
   ],
   "source": [
    "test_loss, test_accuracy = model2.evaluate(vect_test_X, test_y)"
   ]
  },
  {
   "cell_type": "code",
   "execution_count": 18,
   "metadata": {},
   "outputs": [
    {
     "name": "stdout",
     "output_type": "stream",
     "text": [
      "Training accuracy: 0.9444666504859924\n",
      "Validation accuracy: 0.8901000022888184\n",
      "Test accuracy: 0.8828399777412415\n"
     ]
    }
   ],
   "source": [
    "print('Training accuracy:', history2.history['accuracy'][-1])\n",
    "print('Validation accuracy:', history2.history['val_accuracy'][-1])\n",
    "print('Test accuracy:', test_accuracy)"
   ]
  },
  {
   "cell_type": "markdown",
   "metadata": {},
   "source": [
    "Our test accuracy should now very similar to the validation accuracy we were getting when training our model, and the overfitting effect should be smaller.\n",
    "\n",
    "Please take a moment to reflect on the results too: The fact that with a few lines of code we can achieve real accuracies of between 85% and 90% to distinguish positive and negative comments is impressive. And we have just used  two hidden layers of 16 neurons each.\n",
    "\n",
    "This is where the hype comes in the community, and hopefully produces some excitement for you too. \n",
    "\n",
    "**As always, play with the code:** Add layers, add neurons to the layers, change the parameters I specified, etc. You cannot break anything.\n",
    "\n",
    "**There is a strong possibility** that you will find much better ANN architectures. \n",
    "\n",
    "### Here are some ideas for you to practice:\n",
    "* We used two hidden layers; try using one or three hidden layers, and see how doing so affects validation and test accuracies\n",
    "* Try using hidden layers with more or less neurons. We used 16. Try 8, 32, 64. What happens with the accuracies?\n",
    "* Try using the Mean Square Error (`mse`) instead of `binary_crossentropy` as a loss function\n",
    "* Try using the `tanh` activation in your hidden layers, instead of `relu`"
   ]
  },
  {
   "cell_type": "code",
   "execution_count": null,
   "metadata": {},
   "outputs": [],
   "source": []
  }
 ],
 "metadata": {
  "kernelspec": {
   "display_name": "Python 3",
   "language": "python",
   "name": "python3"
  },
  "language_info": {
   "codemirror_mode": {
    "name": "ipython",
    "version": 3
   },
   "file_extension": ".py",
   "mimetype": "text/x-python",
   "name": "python",
   "nbconvert_exporter": "python",
   "pygments_lexer": "ipython3",
   "version": "3.8.1"
  }
 },
 "nbformat": 4,
 "nbformat_minor": 4
}
