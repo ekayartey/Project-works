{
  "cells": [
    {
      "cell_type": "markdown",
      "metadata": {
        "id": "Sblem2Y1he0n"
      },
      "source": [
        "I downloaded this notebook [from here](https://github.com/hb20007/hands-on-nltk-tutorial/blob/master/3-1-Bigrams-Stemming-and-Lemmatizing.ipynb)\n",
        "\n",
        "# Bigrams, Stemming and Lemmatizing"
      ]
    },
    {
      "cell_type": "markdown",
      "metadata": {
        "id": "MWdrS2VAhe0q"
      },
      "source": [
        "## 1. Exploring the `reuters` corpus"
      ]
    },
    {
      "cell_type": "code",
      "execution_count": 1,
      "metadata": {
        "colab": {
          "base_uri": "https://localhost:8080/"
        },
        "id": "g8AcUQM7he0r",
        "outputId": "c4ebdabd-2246-4f1c-a951-df5caca5da50"
      },
      "outputs": [
        {
          "output_type": "stream",
          "name": "stdout",
          "text": [
            "Looking in indexes: https://pypi.org/simple, https://us-python.pkg.dev/colab-wheels/public/simple/\n",
            "Requirement already satisfied: nltk in /usr/local/lib/python3.7/dist-packages (3.7)\n",
            "Requirement already satisfied: tqdm in /usr/local/lib/python3.7/dist-packages (from nltk) (4.64.1)\n",
            "Requirement already satisfied: joblib in /usr/local/lib/python3.7/dist-packages (from nltk) (1.2.0)\n",
            "Requirement already satisfied: click in /usr/local/lib/python3.7/dist-packages (from nltk) (7.1.2)\n",
            "Requirement already satisfied: regex>=2021.8.3 in /usr/local/lib/python3.7/dist-packages (from nltk) (2022.6.2)\n"
          ]
        }
      ],
      "source": [
        "!pip install nltk"
      ]
    },
    {
      "cell_type": "code",
      "execution_count": 2,
      "metadata": {
        "colab": {
          "base_uri": "https://localhost:8080/"
        },
        "id": "wAhBSlgnhe0u",
        "outputId": "66d470ab-7eca-4b47-b9aa-9f5886884c6f"
      },
      "outputs": [
        {
          "output_type": "stream",
          "name": "stdout",
          "text": [
            "This downloading process is slow, but you only will need to do it once...\n"
          ]
        },
        {
          "output_type": "stream",
          "name": "stderr",
          "text": [
            "[nltk_data] Downloading package reuters to /root/nltk_data...\n",
            "[nltk_data] Downloading package stopwords to /root/nltk_data...\n",
            "[nltk_data]   Unzipping corpora/stopwords.zip.\n",
            "[nltk_data] Downloading package wordnet to /root/nltk_data...\n"
          ]
        },
        {
          "output_type": "execute_result",
          "data": {
            "text/plain": [
              "True"
            ]
          },
          "metadata": {},
          "execution_count": 2
        }
      ],
      "source": [
        "import nltk\n",
        "import ssl\n",
        "\n",
        "ssl._create_default_https_context = ssl._create_unverified_context\n",
        "\n",
        "print('This downloading process is slow, but you only will need to do it once...')\n",
        "\n",
        "nltk.download('reuters')\n",
        "nltk.download('stopwords')\n",
        "nltk.download('wordnet')"
      ]
    },
    {
      "cell_type": "code",
      "execution_count": 3,
      "metadata": {
        "colab": {
          "base_uri": "https://localhost:8080/",
          "height": 123
        },
        "id": "byj8RXlwhe0v",
        "outputId": "c48a353a-0692-4306-96ee-4091c74dd415"
      },
      "outputs": [
        {
          "output_type": "execute_result",
          "data": {
            "text/plain": [
              "'       The Reuters-21578 benchmark corpus, ApteMod version  This is a publically available version of the well-known Reuters-21578 \"ApteMod\" corpus for text categorization.  It has been used in publications like these:   * Yiming Yang and X. Liu. \"A re-examination of text categorization    methods\".  1999.  Proceedings of 22nd Annual International SIGIR.    http://citeseer.nj.nec.com/yang99reexamination.html   * Thorsten Joachims. \"Text categorization with support vector    machines: learning with many relevant features\".  1998. Proceedings    of ECML-98, 10th European Conference on Machine Learning.    http://citeseer.nj.nec.com/joachims98text.html  ApteMod is a collection of 10,788 documents from the Reuters financial newswire service, partitioned into a training set with 7769 documents and a test set with 3019 documents.  The total size of the corpus is about 43 MB.  It is also available for download from http://kdd.ics.uci.edu/databases/reuters21578/reuters21578.html , which includes a more extensive history of the data revisions.  The distribution of categories in the ApteMod corpus is highly skewed, with 36.7% of the documents in the most common category, and only 0.0185% (2 documents) in each of the five least common categories. In fact, the original data source is even more skewed---in creating the corpus, any categories that did not contain at least one document in the training set and one document in the test set were removed from the corpus by its original creator.  In the ApteMod corpus, each document belongs to one or more categories.  There are 90 categories in the corpus.  The average number of categories per document is 1.235, and the average number of documents per category is about 148, or 1.37% of the corpus.   -Ken Williams   ken@mathforum.org           Copyright & Notification   (extracted from the README at the UCI address above)  The copyright for the text of newswire articles and Reuters annotations in the Reuters-21578 collection resides with Reuters Ltd. Reuters Ltd. and Carnegie Group, Inc. have agreed to allow the free distribution of this data *for research purposes only*.    If you publish results based on this data set, please acknowledge its use, refer to the data set by the name \"Reuters-21578, Distribution 1.0\", and inform your readers of the current location of the data set (see \"Availability & Questions\").  '"
            ],
            "application/vnd.google.colaboratory.intrinsic+json": {
              "type": "string"
            }
          },
          "metadata": {},
          "execution_count": 3
        }
      ],
      "source": [
        "from nltk.corpus import reuters\n",
        "\n",
        "reuters.readme().replace('\\n', ' ')"
      ]
    },
    {
      "cell_type": "code",
      "execution_count": 4,
      "metadata": {
        "colab": {
          "base_uri": "https://localhost:8080/"
        },
        "id": "O9DSrNHxhe0w",
        "outputId": "9e52ca5e-9cae-4c3e-db7c-c08e49028ca7"
      },
      "outputs": [
        {
          "output_type": "execute_result",
          "data": {
            "text/plain": [
              "['test/14826',\n",
              " 'test/14828',\n",
              " 'test/14829',\n",
              " 'test/14832',\n",
              " 'test/14833',\n",
              " 'test/14839',\n",
              " 'test/14840',\n",
              " 'test/14841',\n",
              " 'test/14842',\n",
              " 'test/14843',\n",
              " 'test/14844',\n",
              " 'test/14849',\n",
              " 'test/14852',\n",
              " 'test/14854',\n",
              " 'test/14858',\n",
              " 'test/14859',\n",
              " 'test/14860',\n",
              " 'test/14861',\n",
              " 'test/14862',\n",
              " 'test/14863',\n",
              " 'test/14865',\n",
              " 'test/14867',\n",
              " 'test/14872',\n",
              " 'test/14873',\n",
              " 'test/14875',\n",
              " 'test/14876',\n",
              " 'test/14877',\n",
              " 'test/14881',\n",
              " 'test/14882',\n",
              " 'test/14885',\n",
              " 'test/14886',\n",
              " 'test/14888',\n",
              " 'test/14890',\n",
              " 'test/14891',\n",
              " 'test/14892',\n",
              " 'test/14899',\n",
              " 'test/14900',\n",
              " 'test/14903',\n",
              " 'test/14904',\n",
              " 'test/14907',\n",
              " 'test/14909',\n",
              " 'test/14911',\n",
              " 'test/14912',\n",
              " 'test/14913',\n",
              " 'test/14918',\n",
              " 'test/14919',\n",
              " 'test/14921',\n",
              " 'test/14922',\n",
              " 'test/14923',\n",
              " 'test/14926',\n",
              " 'test/14928',\n",
              " 'test/14930',\n",
              " 'test/14931',\n",
              " 'test/14932',\n",
              " 'test/14933',\n",
              " 'test/14934',\n",
              " 'test/14941',\n",
              " 'test/14943',\n",
              " 'test/14949',\n",
              " 'test/14951',\n",
              " 'test/14954',\n",
              " 'test/14957',\n",
              " 'test/14958',\n",
              " 'test/14959',\n",
              " 'test/14960',\n",
              " 'test/14962',\n",
              " 'test/14963',\n",
              " 'test/14964',\n",
              " 'test/14965',\n",
              " 'test/14967',\n",
              " 'test/14968',\n",
              " 'test/14969',\n",
              " 'test/14970',\n",
              " 'test/14971',\n",
              " 'test/14974',\n",
              " 'test/14975',\n",
              " 'test/14978',\n",
              " 'test/14981',\n",
              " 'test/14982',\n",
              " 'test/14983',\n",
              " 'test/14984',\n",
              " 'test/14985',\n",
              " 'test/14986',\n",
              " 'test/14987',\n",
              " 'test/14988',\n",
              " 'test/14993',\n",
              " 'test/14995',\n",
              " 'test/14998',\n",
              " 'test/15000',\n",
              " 'test/15001',\n",
              " 'test/15002',\n",
              " 'test/15004',\n",
              " 'test/15005',\n",
              " 'test/15006',\n",
              " 'test/15011',\n",
              " 'test/15012',\n",
              " 'test/15013',\n",
              " 'test/15016',\n",
              " 'test/15017',\n",
              " 'test/15020',\n",
              " 'test/15023',\n",
              " 'test/15024',\n",
              " 'test/15026',\n",
              " 'test/15027',\n",
              " 'test/15028',\n",
              " 'test/15029',\n",
              " 'test/15031',\n",
              " 'test/15032',\n",
              " 'test/15033',\n",
              " 'test/15037',\n",
              " 'test/15038',\n",
              " 'test/15043',\n",
              " 'test/15045',\n",
              " 'test/15046',\n",
              " 'test/15048',\n",
              " 'test/15049',\n",
              " 'test/15052',\n",
              " 'test/15053',\n",
              " 'test/15055',\n",
              " 'test/15056',\n",
              " 'test/15060',\n",
              " 'test/15061',\n",
              " 'test/15062',\n",
              " 'test/15063',\n",
              " 'test/15065',\n",
              " 'test/15067',\n",
              " 'test/15069',\n",
              " 'test/15070',\n",
              " 'test/15074',\n",
              " 'test/15077',\n",
              " 'test/15078',\n",
              " 'test/15079',\n",
              " 'test/15082',\n",
              " 'test/15090',\n",
              " 'test/15091',\n",
              " 'test/15092',\n",
              " 'test/15093',\n",
              " 'test/15094',\n",
              " 'test/15095',\n",
              " 'test/15096',\n",
              " 'test/15097',\n",
              " 'test/15103',\n",
              " 'test/15104',\n",
              " 'test/15106',\n",
              " 'test/15107',\n",
              " 'test/15109',\n",
              " 'test/15110',\n",
              " 'test/15111',\n",
              " 'test/15112',\n",
              " 'test/15118',\n",
              " 'test/15119',\n",
              " 'test/15120',\n",
              " 'test/15121',\n",
              " 'test/15122',\n",
              " 'test/15124',\n",
              " 'test/15126',\n",
              " 'test/15128',\n",
              " 'test/15129',\n",
              " 'test/15130',\n",
              " 'test/15132',\n",
              " 'test/15136',\n",
              " 'test/15138',\n",
              " 'test/15141',\n",
              " 'test/15144',\n",
              " 'test/15145',\n",
              " 'test/15146',\n",
              " 'test/15149',\n",
              " 'test/15152',\n",
              " 'test/15153',\n",
              " 'test/15154',\n",
              " 'test/15156',\n",
              " 'test/15157',\n",
              " 'test/15161',\n",
              " 'test/15162',\n",
              " 'test/15171',\n",
              " 'test/15172',\n",
              " 'test/15175',\n",
              " 'test/15179',\n",
              " 'test/15180',\n",
              " 'test/15185',\n",
              " 'test/15188',\n",
              " 'test/15189',\n",
              " 'test/15190',\n",
              " 'test/15193',\n",
              " 'test/15194',\n",
              " 'test/15197',\n",
              " 'test/15198',\n",
              " 'test/15200',\n",
              " 'test/15204',\n",
              " 'test/15205',\n",
              " 'test/15206',\n",
              " 'test/15207',\n",
              " 'test/15208',\n",
              " 'test/15210',\n",
              " 'test/15211',\n",
              " 'test/15212',\n",
              " 'test/15213',\n",
              " 'test/15217',\n",
              " 'test/15219',\n",
              " 'test/15220',\n",
              " 'test/15221',\n",
              " 'test/15222',\n",
              " 'test/15223',\n",
              " 'test/15226',\n",
              " 'test/15227',\n",
              " 'test/15230',\n",
              " 'test/15233',\n",
              " 'test/15234',\n",
              " 'test/15237',\n",
              " 'test/15238',\n",
              " 'test/15239',\n",
              " 'test/15240',\n",
              " 'test/15242',\n",
              " 'test/15243',\n",
              " 'test/15244',\n",
              " 'test/15246',\n",
              " 'test/15247',\n",
              " 'test/15250',\n",
              " 'test/15253',\n",
              " 'test/15254',\n",
              " 'test/15255',\n",
              " 'test/15258',\n",
              " 'test/15259',\n",
              " 'test/15262',\n",
              " 'test/15263',\n",
              " 'test/15264',\n",
              " 'test/15265',\n",
              " 'test/15270',\n",
              " 'test/15271',\n",
              " 'test/15273',\n",
              " 'test/15274',\n",
              " 'test/15276',\n",
              " 'test/15278',\n",
              " 'test/15280',\n",
              " 'test/15281',\n",
              " 'test/15283',\n",
              " 'test/15287',\n",
              " 'test/15290',\n",
              " 'test/15292',\n",
              " 'test/15294',\n",
              " 'test/15295',\n",
              " 'test/15296',\n",
              " 'test/15299',\n",
              " 'test/15300',\n",
              " 'test/15302',\n",
              " 'test/15303',\n",
              " 'test/15306',\n",
              " 'test/15307',\n",
              " 'test/15308',\n",
              " 'test/15309',\n",
              " 'test/15310',\n",
              " 'test/15311',\n",
              " 'test/15312',\n",
              " 'test/15313',\n",
              " 'test/15314',\n",
              " 'test/15315',\n",
              " 'test/15321',\n",
              " 'test/15322',\n",
              " 'test/15324',\n",
              " 'test/15325',\n",
              " 'test/15326',\n",
              " 'test/15327',\n",
              " 'test/15329',\n",
              " 'test/15335',\n",
              " 'test/15336',\n",
              " 'test/15337',\n",
              " 'test/15339',\n",
              " 'test/15341',\n",
              " 'test/15344',\n",
              " 'test/15345',\n",
              " 'test/15348',\n",
              " 'test/15349',\n",
              " 'test/15351',\n",
              " 'test/15352',\n",
              " 'test/15354',\n",
              " 'test/15356',\n",
              " 'test/15357',\n",
              " 'test/15359',\n",
              " 'test/15363',\n",
              " 'test/15364',\n",
              " 'test/15365',\n",
              " 'test/15366',\n",
              " 'test/15367',\n",
              " 'test/15368',\n",
              " 'test/15372',\n",
              " 'test/15375',\n",
              " 'test/15378',\n",
              " 'test/15379',\n",
              " 'test/15380',\n",
              " 'test/15383',\n",
              " 'test/15384',\n",
              " 'test/15386',\n",
              " 'test/15387',\n",
              " 'test/15388',\n",
              " 'test/15389',\n",
              " 'test/15391',\n",
              " 'test/15394',\n",
              " 'test/15396',\n",
              " 'test/15397',\n",
              " 'test/15400',\n",
              " 'test/15404',\n",
              " 'test/15406',\n",
              " 'test/15409',\n",
              " 'test/15410',\n",
              " 'test/15411',\n",
              " 'test/15413',\n",
              " 'test/15415',\n",
              " 'test/15416',\n",
              " 'test/15417',\n",
              " 'test/15420',\n",
              " 'test/15421',\n",
              " 'test/15424',\n",
              " 'test/15425',\n",
              " 'test/15427',\n",
              " 'test/15428',\n",
              " 'test/15429',\n",
              " 'test/15430',\n",
              " 'test/15431',\n",
              " 'test/15432',\n",
              " 'test/15436',\n",
              " 'test/15438',\n",
              " 'test/15441',\n",
              " 'test/15442',\n",
              " 'test/15444',\n",
              " 'test/15446',\n",
              " 'test/15447',\n",
              " 'test/15448',\n",
              " 'test/15449',\n",
              " 'test/15450',\n",
              " 'test/15451',\n",
              " 'test/15452',\n",
              " 'test/15453',\n",
              " 'test/15454',\n",
              " 'test/15455',\n",
              " 'test/15457',\n",
              " 'test/15459',\n",
              " 'test/15460',\n",
              " 'test/15462',\n",
              " 'test/15464',\n",
              " 'test/15467',\n",
              " 'test/15468',\n",
              " 'test/15471',\n",
              " 'test/15472',\n",
              " 'test/15476',\n",
              " 'test/15477',\n",
              " 'test/15478',\n",
              " 'test/15479',\n",
              " 'test/15481',\n",
              " 'test/15482',\n",
              " 'test/15483',\n",
              " 'test/15484',\n",
              " 'test/15485',\n",
              " 'test/15487',\n",
              " 'test/15489',\n",
              " 'test/15494',\n",
              " 'test/15495',\n",
              " 'test/15496',\n",
              " 'test/15500',\n",
              " 'test/15501',\n",
              " 'test/15503',\n",
              " 'test/15504',\n",
              " 'test/15510',\n",
              " 'test/15511',\n",
              " 'test/15515',\n",
              " 'test/15520',\n",
              " 'test/15521',\n",
              " 'test/15522',\n",
              " 'test/15523',\n",
              " 'test/15527',\n",
              " 'test/15528',\n",
              " 'test/15531',\n",
              " 'test/15532',\n",
              " 'test/15535',\n",
              " 'test/15536',\n",
              " 'test/15539',\n",
              " 'test/15540',\n",
              " 'test/15542',\n",
              " 'test/15543',\n",
              " 'test/15544',\n",
              " 'test/15545',\n",
              " 'test/15547',\n",
              " 'test/15548',\n",
              " 'test/15549',\n",
              " 'test/15550',\n",
              " 'test/15551',\n",
              " 'test/15552',\n",
              " 'test/15553',\n",
              " 'test/15556',\n",
              " 'test/15558',\n",
              " 'test/15559',\n",
              " 'test/15560',\n",
              " 'test/15561',\n",
              " 'test/15562',\n",
              " 'test/15563',\n",
              " 'test/15565',\n",
              " 'test/15566',\n",
              " 'test/15567',\n",
              " 'test/15568',\n",
              " 'test/15569',\n",
              " 'test/15570',\n",
              " 'test/15571',\n",
              " 'test/15572',\n",
              " 'test/15573',\n",
              " 'test/15574',\n",
              " 'test/15575',\n",
              " 'test/15578',\n",
              " 'test/15579',\n",
              " 'test/15580',\n",
              " 'test/15581',\n",
              " 'test/15582',\n",
              " 'test/15583',\n",
              " 'test/15584',\n",
              " 'test/15585',\n",
              " 'test/15590',\n",
              " 'test/15591',\n",
              " 'test/15593',\n",
              " 'test/15594',\n",
              " 'test/15595',\n",
              " 'test/15596',\n",
              " 'test/15597',\n",
              " 'test/15598',\n",
              " 'test/15600',\n",
              " 'test/15601',\n",
              " 'test/15602',\n",
              " 'test/15603',\n",
              " 'test/15605',\n",
              " 'test/15607',\n",
              " 'test/15610',\n",
              " 'test/15613',\n",
              " 'test/15615',\n",
              " 'test/15616',\n",
              " 'test/15617',\n",
              " 'test/15618',\n",
              " 'test/15620',\n",
              " 'test/15621',\n",
              " 'test/15623',\n",
              " 'test/15624',\n",
              " 'test/15625',\n",
              " 'test/15626',\n",
              " 'test/15629',\n",
              " 'test/15632',\n",
              " 'test/15634',\n",
              " 'test/15636',\n",
              " 'test/15637',\n",
              " 'test/15639',\n",
              " 'test/15640',\n",
              " 'test/15641',\n",
              " 'test/15642',\n",
              " 'test/15643',\n",
              " 'test/15646',\n",
              " 'test/15648',\n",
              " 'test/15649',\n",
              " 'test/15651',\n",
              " 'test/15653',\n",
              " 'test/15655',\n",
              " 'test/15656',\n",
              " 'test/15664',\n",
              " 'test/15666',\n",
              " 'test/15667',\n",
              " 'test/15668',\n",
              " 'test/15669',\n",
              " 'test/15672',\n",
              " 'test/15674',\n",
              " 'test/15675',\n",
              " 'test/15676',\n",
              " 'test/15677',\n",
              " 'test/15679',\n",
              " 'test/15680',\n",
              " 'test/15682',\n",
              " 'test/15686',\n",
              " 'test/15688',\n",
              " 'test/15689',\n",
              " 'test/15691',\n",
              " 'test/15692',\n",
              " 'test/15694',\n",
              " 'test/15695',\n",
              " 'test/15696',\n",
              " 'test/15698',\n",
              " 'test/15702',\n",
              " 'test/15703',\n",
              " 'test/15704',\n",
              " 'test/15707',\n",
              " 'test/15708',\n",
              " 'test/15709',\n",
              " 'test/15710',\n",
              " 'test/15713',\n",
              " 'test/15715',\n",
              " 'test/15717',\n",
              " 'test/15719',\n",
              " 'test/15720',\n",
              " 'test/15721',\n",
              " 'test/15723',\n",
              " 'test/15725',\n",
              " 'test/15726',\n",
              " 'test/15727',\n",
              " 'test/15728',\n",
              " 'test/15729',\n",
              " 'test/15732',\n",
              " 'test/15733',\n",
              " 'test/15736',\n",
              " 'test/15737',\n",
              " 'test/15739',\n",
              " 'test/15742',\n",
              " 'test/15749',\n",
              " 'test/15751',\n",
              " 'test/15753',\n",
              " 'test/15757',\n",
              " 'test/15759',\n",
              " 'test/15762',\n",
              " 'test/15767',\n",
              " 'test/15768',\n",
              " 'test/15769',\n",
              " 'test/15772',\n",
              " 'test/15777',\n",
              " 'test/15778',\n",
              " 'test/15780',\n",
              " 'test/15782',\n",
              " 'test/15785',\n",
              " 'test/15790',\n",
              " 'test/15793',\n",
              " 'test/15797',\n",
              " 'test/15798',\n",
              " 'test/15800',\n",
              " 'test/15801',\n",
              " 'test/15803',\n",
              " 'test/15804',\n",
              " 'test/15805',\n",
              " 'test/15807',\n",
              " 'test/15808',\n",
              " 'test/15810',\n",
              " 'test/15811',\n",
              " 'test/15816',\n",
              " 'test/15817',\n",
              " 'test/15819',\n",
              " 'test/15821',\n",
              " 'test/15822',\n",
              " 'test/15823',\n",
              " 'test/15829',\n",
              " 'test/15831',\n",
              " 'test/15832',\n",
              " 'test/15833',\n",
              " 'test/15834',\n",
              " 'test/15836',\n",
              " 'test/15838',\n",
              " 'test/15840',\n",
              " 'test/15841',\n",
              " 'test/15842',\n",
              " 'test/15844',\n",
              " 'test/15845',\n",
              " 'test/15846',\n",
              " 'test/15847',\n",
              " 'test/15851',\n",
              " 'test/15852',\n",
              " 'test/15853',\n",
              " 'test/15854',\n",
              " 'test/15855',\n",
              " 'test/15856',\n",
              " 'test/15858',\n",
              " 'test/15859',\n",
              " 'test/15860',\n",
              " 'test/15861',\n",
              " 'test/15863',\n",
              " 'test/15864',\n",
              " 'test/15865',\n",
              " 'test/15866',\n",
              " 'test/15867',\n",
              " 'test/15868',\n",
              " 'test/15869',\n",
              " 'test/15870',\n",
              " 'test/15871',\n",
              " 'test/15872',\n",
              " 'test/15874',\n",
              " 'test/15875',\n",
              " 'test/15876',\n",
              " 'test/15877',\n",
              " 'test/15878',\n",
              " 'test/15879',\n",
              " 'test/15881',\n",
              " 'test/15885',\n",
              " 'test/15886',\n",
              " 'test/15888',\n",
              " 'test/15889',\n",
              " 'test/15890',\n",
              " 'test/15892',\n",
              " 'test/15893',\n",
              " 'test/15894',\n",
              " 'test/15895',\n",
              " 'test/15896',\n",
              " 'test/15897',\n",
              " 'test/15898',\n",
              " 'test/15899',\n",
              " 'test/15900',\n",
              " 'test/15901',\n",
              " 'test/15902',\n",
              " 'test/15903',\n",
              " 'test/15904',\n",
              " 'test/15906',\n",
              " 'test/15908',\n",
              " 'test/15909',\n",
              " 'test/15910',\n",
              " 'test/15911',\n",
              " 'test/15912',\n",
              " 'test/15913',\n",
              " 'test/15914',\n",
              " 'test/15916',\n",
              " 'test/15917',\n",
              " 'test/15918',\n",
              " 'test/15920',\n",
              " 'test/15921',\n",
              " 'test/15922',\n",
              " 'test/15923',\n",
              " 'test/15924',\n",
              " 'test/15925',\n",
              " 'test/15927',\n",
              " 'test/15928',\n",
              " 'test/15929',\n",
              " 'test/15930',\n",
              " 'test/15932',\n",
              " 'test/15933',\n",
              " 'test/15934',\n",
              " 'test/15937',\n",
              " 'test/15939',\n",
              " 'test/15942',\n",
              " 'test/15944',\n",
              " 'test/15949',\n",
              " 'test/15950',\n",
              " 'test/15951',\n",
              " 'test/15952',\n",
              " 'test/15953',\n",
              " 'test/15956',\n",
              " 'test/15959',\n",
              " 'test/15960',\n",
              " 'test/15961',\n",
              " 'test/15963',\n",
              " 'test/15964',\n",
              " 'test/15967',\n",
              " 'test/15968',\n",
              " 'test/15969',\n",
              " 'test/15970',\n",
              " 'test/15973',\n",
              " 'test/15975',\n",
              " 'test/15976',\n",
              " 'test/15977',\n",
              " 'test/15978',\n",
              " 'test/15979',\n",
              " 'test/15980',\n",
              " 'test/15981',\n",
              " 'test/15984',\n",
              " 'test/15985',\n",
              " 'test/15987',\n",
              " 'test/15988',\n",
              " 'test/15989',\n",
              " 'test/15993',\n",
              " 'test/15995',\n",
              " 'test/15996',\n",
              " 'test/15997',\n",
              " 'test/15999',\n",
              " 'test/16002',\n",
              " 'test/16003',\n",
              " 'test/16004',\n",
              " 'test/16005',\n",
              " 'test/16006',\n",
              " 'test/16007',\n",
              " 'test/16009',\n",
              " 'test/16012',\n",
              " 'test/16013',\n",
              " 'test/16014',\n",
              " 'test/16015',\n",
              " 'test/16016',\n",
              " 'test/16021',\n",
              " 'test/16022',\n",
              " 'test/16023',\n",
              " 'test/16026',\n",
              " 'test/16029',\n",
              " 'test/16030',\n",
              " 'test/16033',\n",
              " 'test/16037',\n",
              " 'test/16040',\n",
              " 'test/16041',\n",
              " 'test/16045',\n",
              " 'test/16052',\n",
              " 'test/16053',\n",
              " 'test/16055',\n",
              " 'test/16063',\n",
              " 'test/16066',\n",
              " 'test/16067',\n",
              " 'test/16068',\n",
              " 'test/16069',\n",
              " 'test/16071',\n",
              " 'test/16072',\n",
              " 'test/16074',\n",
              " 'test/16075',\n",
              " 'test/16076',\n",
              " 'test/16077',\n",
              " 'test/16079',\n",
              " 'test/16080',\n",
              " 'test/16083',\n",
              " 'test/16086',\n",
              " 'test/16088',\n",
              " 'test/16091',\n",
              " 'test/16093',\n",
              " 'test/16094',\n",
              " 'test/16095',\n",
              " 'test/16096',\n",
              " 'test/16097',\n",
              " 'test/16098',\n",
              " 'test/16099',\n",
              " 'test/16100',\n",
              " 'test/16103',\n",
              " 'test/16106',\n",
              " 'test/16107',\n",
              " 'test/16108',\n",
              " 'test/16110',\n",
              " 'test/16111',\n",
              " 'test/16112',\n",
              " 'test/16115',\n",
              " 'test/16117',\n",
              " 'test/16118',\n",
              " 'test/16119',\n",
              " 'test/16120',\n",
              " 'test/16122',\n",
              " 'test/16123',\n",
              " 'test/16125',\n",
              " 'test/16126',\n",
              " 'test/16130',\n",
              " 'test/16133',\n",
              " 'test/16134',\n",
              " 'test/16136',\n",
              " 'test/16139',\n",
              " 'test/16140',\n",
              " 'test/16141',\n",
              " 'test/16142',\n",
              " 'test/16143',\n",
              " 'test/16144',\n",
              " 'test/16145',\n",
              " 'test/16146',\n",
              " 'test/16147',\n",
              " 'test/16148',\n",
              " 'test/16149',\n",
              " 'test/16150',\n",
              " 'test/16152',\n",
              " 'test/16155',\n",
              " 'test/16158',\n",
              " 'test/16159',\n",
              " 'test/16161',\n",
              " 'test/16162',\n",
              " 'test/16163',\n",
              " 'test/16164',\n",
              " 'test/16166',\n",
              " 'test/16170',\n",
              " 'test/16171',\n",
              " 'test/16172',\n",
              " 'test/16173',\n",
              " 'test/16175',\n",
              " 'test/16176',\n",
              " 'test/16177',\n",
              " 'test/16179',\n",
              " 'test/16180',\n",
              " 'test/16185',\n",
              " 'test/16188',\n",
              " 'test/16189',\n",
              " 'test/16190',\n",
              " 'test/16193',\n",
              " 'test/16194',\n",
              " 'test/16195',\n",
              " 'test/16196',\n",
              " 'test/16197',\n",
              " 'test/16200',\n",
              " 'test/16201',\n",
              " 'test/16202',\n",
              " 'test/16203',\n",
              " 'test/16206',\n",
              " 'test/16207',\n",
              " 'test/16210',\n",
              " 'test/16211',\n",
              " 'test/16212',\n",
              " 'test/16213',\n",
              " 'test/16214',\n",
              " 'test/16215',\n",
              " 'test/16216',\n",
              " 'test/16219',\n",
              " 'test/16221',\n",
              " 'test/16223',\n",
              " 'test/16225',\n",
              " 'test/16226',\n",
              " 'test/16228',\n",
              " 'test/16230',\n",
              " 'test/16232',\n",
              " 'test/16233',\n",
              " 'test/16234',\n",
              " 'test/16236',\n",
              " 'test/16238',\n",
              " 'test/16241',\n",
              " 'test/16243',\n",
              " 'test/16244',\n",
              " 'test/16246',\n",
              " 'test/16247',\n",
              " 'test/16248',\n",
              " 'test/16250',\n",
              " 'test/16251',\n",
              " 'test/16252',\n",
              " 'test/16255',\n",
              " 'test/16256',\n",
              " 'test/16257',\n",
              " 'test/16258',\n",
              " 'test/16260',\n",
              " 'test/16262',\n",
              " 'test/16263',\n",
              " 'test/16264',\n",
              " 'test/16265',\n",
              " 'test/16266',\n",
              " 'test/16268',\n",
              " 'test/16269',\n",
              " 'test/16270',\n",
              " 'test/16271',\n",
              " 'test/16274',\n",
              " 'test/16275',\n",
              " 'test/16277',\n",
              " 'test/16278',\n",
              " 'test/16279',\n",
              " 'test/16281',\n",
              " 'test/16282',\n",
              " 'test/16283',\n",
              " 'test/16284',\n",
              " 'test/16285',\n",
              " 'test/16286',\n",
              " 'test/16287',\n",
              " 'test/16288',\n",
              " 'test/16289',\n",
              " 'test/16291',\n",
              " 'test/16294',\n",
              " 'test/16297',\n",
              " 'test/16298',\n",
              " 'test/16299',\n",
              " 'test/16300',\n",
              " 'test/16301',\n",
              " 'test/16302',\n",
              " 'test/16303',\n",
              " 'test/16304',\n",
              " 'test/16307',\n",
              " 'test/16310',\n",
              " 'test/16311',\n",
              " 'test/16312',\n",
              " 'test/16314',\n",
              " 'test/16315',\n",
              " 'test/16316',\n",
              " 'test/16317',\n",
              " 'test/16318',\n",
              " 'test/16319',\n",
              " 'test/16320',\n",
              " 'test/16324',\n",
              " 'test/16327',\n",
              " 'test/16331',\n",
              " 'test/16332',\n",
              " 'test/16336',\n",
              " 'test/16337',\n",
              " 'test/16339',\n",
              " 'test/16342',\n",
              " 'test/16343',\n",
              " 'test/16346',\n",
              " 'test/16347',\n",
              " 'test/16348',\n",
              " 'test/16350',\n",
              " 'test/16354',\n",
              " 'test/16357',\n",
              " 'test/16359',\n",
              " 'test/16360',\n",
              " 'test/16362',\n",
              " 'test/16363',\n",
              " 'test/16365',\n",
              " 'test/16366',\n",
              " 'test/16367',\n",
              " 'test/16369',\n",
              " 'test/16370',\n",
              " 'test/16371',\n",
              " 'test/16372',\n",
              " 'test/16374',\n",
              " 'test/16376',\n",
              " 'test/16377',\n",
              " 'test/16379',\n",
              " 'test/16380',\n",
              " 'test/16383',\n",
              " 'test/16385',\n",
              " 'test/16386',\n",
              " 'test/16388',\n",
              " 'test/16390',\n",
              " 'test/16392',\n",
              " 'test/16393',\n",
              " 'test/16394',\n",
              " 'test/16395',\n",
              " 'test/16396',\n",
              " 'test/16398',\n",
              " 'test/16399',\n",
              " 'test/16400',\n",
              " 'test/16401',\n",
              " 'test/16402',\n",
              " 'test/16403',\n",
              " 'test/16404',\n",
              " 'test/16405',\n",
              " 'test/16406',\n",
              " 'test/16407',\n",
              " 'test/16409',\n",
              " 'test/16410',\n",
              " 'test/16415',\n",
              " 'test/16417',\n",
              " 'test/16418',\n",
              " 'test/16419',\n",
              " 'test/16420',\n",
              " 'test/16421',\n",
              " 'test/16422',\n",
              " 'test/16424',\n",
              " 'test/16426',\n",
              " 'test/16427',\n",
              " 'test/16428',\n",
              " 'test/16429',\n",
              " 'test/16430',\n",
              " 'test/16432',\n",
              " 'test/16433',\n",
              " 'test/16434',\n",
              " 'test/16437',\n",
              " 'test/16438',\n",
              " 'test/16440',\n",
              " 'test/16441',\n",
              " 'test/16442',\n",
              " 'test/16443',\n",
              " 'test/16444',\n",
              " 'test/16448',\n",
              " 'test/16449',\n",
              " 'test/16450',\n",
              " 'test/16454',\n",
              " 'test/16457',\n",
              " 'test/16458',\n",
              " 'test/16459',\n",
              " 'test/16460',\n",
              " 'test/16461',\n",
              " 'test/16463',\n",
              " 'test/16465',\n",
              " 'test/16468',\n",
              " 'test/16469',\n",
              " 'test/16470',\n",
              " 'test/16471',\n",
              " 'test/16472',\n",
              " 'test/16473',\n",
              " 'test/16475',\n",
              " 'test/16476',\n",
              " 'test/16478',\n",
              " 'test/16479',\n",
              " 'test/16480',\n",
              " 'test/16481',\n",
              " 'test/16483',\n",
              " 'test/16486',\n",
              " 'test/16487',\n",
              " 'test/16488',\n",
              " 'test/16490',\n",
              " 'test/16492',\n",
              " 'test/16493',\n",
              " 'test/16495',\n",
              " 'test/16496',\n",
              " 'test/16499',\n",
              " 'test/16502',\n",
              " 'test/16505',\n",
              " 'test/16510',\n",
              " 'test/16512',\n",
              " 'test/16513',\n",
              " 'test/16518',\n",
              " 'test/16519',\n",
              " 'test/16521',\n",
              " 'test/16522',\n",
              " 'test/16523',\n",
              " 'test/16525',\n",
              " 'test/16527',\n",
              " 'test/16530',\n",
              " 'test/16531',\n",
              " 'test/16533',\n",
              " 'test/16538',\n",
              " 'test/16539',\n",
              " 'test/16545',\n",
              " 'test/16546',\n",
              " 'test/16549',\n",
              " 'test/16551',\n",
              " 'test/16554',\n",
              " 'test/16555',\n",
              " 'test/16561',\n",
              " 'test/16563',\n",
              " 'test/16564',\n",
              " 'test/16565',\n",
              " 'test/16568',\n",
              " 'test/16569',\n",
              " 'test/16570',\n",
              " 'test/16574',\n",
              " 'test/16577',\n",
              " 'test/16581',\n",
              " 'test/16583',\n",
              " 'test/16584',\n",
              " 'test/16585',\n",
              " 'test/16587',\n",
              " 'test/16588',\n",
              " 'test/16589',\n",
              " 'test/16590',\n",
              " 'test/16591',\n",
              " ...]"
            ]
          },
          "metadata": {},
          "execution_count": 4
        }
      ],
      "source": [
        "reuters.fileids()"
      ]
    },
    {
      "cell_type": "code",
      "execution_count": 5,
      "metadata": {
        "colab": {
          "base_uri": "https://localhost:8080/",
          "height": 36
        },
        "id": "8RGpx8H5he0x",
        "outputId": "4e3ca2dd-5c4f-4de7-9022-40b3bd939be3"
      },
      "outputs": [
        {
          "output_type": "execute_result",
          "data": {
            "text/plain": [
              "'training/9995'"
            ],
            "application/vnd.google.colaboratory.intrinsic+json": {
              "type": "string"
            }
          },
          "metadata": {},
          "execution_count": 5
        }
      ],
      "source": [
        "reuters.fileids()[-1]"
      ]
    },
    {
      "cell_type": "code",
      "execution_count": 6,
      "metadata": {
        "colab": {
          "base_uri": "https://localhost:8080/"
        },
        "id": "JsEX9NHkhe0x",
        "outputId": "38fa80a2-dedf-4f2d-fdc2-506ff6b794bd"
      },
      "outputs": [
        {
          "output_type": "execute_result",
          "data": {
            "text/plain": [
              "10788"
            ]
          },
          "metadata": {},
          "execution_count": 6
        }
      ],
      "source": [
        "len(reuters.fileids())"
      ]
    },
    {
      "cell_type": "code",
      "execution_count": 7,
      "metadata": {
        "colab": {
          "base_uri": "https://localhost:8080/"
        },
        "id": "Fl6LOv4Lhe0y",
        "outputId": "2689372f-ee29-4b8d-b030-a2475cf0654d"
      },
      "outputs": [
        {
          "output_type": "execute_result",
          "data": {
            "text/plain": [
              "['acq',\n",
              " 'alum',\n",
              " 'barley',\n",
              " 'bop',\n",
              " 'carcass',\n",
              " 'castor-oil',\n",
              " 'cocoa',\n",
              " 'coconut',\n",
              " 'coconut-oil',\n",
              " 'coffee',\n",
              " 'copper',\n",
              " 'copra-cake',\n",
              " 'corn',\n",
              " 'cotton',\n",
              " 'cotton-oil',\n",
              " 'cpi',\n",
              " 'cpu',\n",
              " 'crude',\n",
              " 'dfl',\n",
              " 'dlr',\n",
              " 'dmk',\n",
              " 'earn',\n",
              " 'fuel',\n",
              " 'gas',\n",
              " 'gnp',\n",
              " 'gold',\n",
              " 'grain',\n",
              " 'groundnut',\n",
              " 'groundnut-oil',\n",
              " 'heat',\n",
              " 'hog',\n",
              " 'housing',\n",
              " 'income',\n",
              " 'instal-debt',\n",
              " 'interest',\n",
              " 'ipi',\n",
              " 'iron-steel',\n",
              " 'jet',\n",
              " 'jobs',\n",
              " 'l-cattle',\n",
              " 'lead',\n",
              " 'lei',\n",
              " 'lin-oil',\n",
              " 'livestock',\n",
              " 'lumber',\n",
              " 'meal-feed',\n",
              " 'money-fx',\n",
              " 'money-supply',\n",
              " 'naphtha',\n",
              " 'nat-gas',\n",
              " 'nickel',\n",
              " 'nkr',\n",
              " 'nzdlr',\n",
              " 'oat',\n",
              " 'oilseed',\n",
              " 'orange',\n",
              " 'palladium',\n",
              " 'palm-oil',\n",
              " 'palmkernel',\n",
              " 'pet-chem',\n",
              " 'platinum',\n",
              " 'potato',\n",
              " 'propane',\n",
              " 'rand',\n",
              " 'rape-oil',\n",
              " 'rapeseed',\n",
              " 'reserves',\n",
              " 'retail',\n",
              " 'rice',\n",
              " 'rubber',\n",
              " 'rye',\n",
              " 'ship',\n",
              " 'silver',\n",
              " 'sorghum',\n",
              " 'soy-meal',\n",
              " 'soy-oil',\n",
              " 'soybean',\n",
              " 'strategic-metal',\n",
              " 'sugar',\n",
              " 'sun-meal',\n",
              " 'sun-oil',\n",
              " 'sunseed',\n",
              " 'tea',\n",
              " 'tin',\n",
              " 'trade',\n",
              " 'veg-oil',\n",
              " 'wheat',\n",
              " 'wpi',\n",
              " 'yen',\n",
              " 'zinc']"
            ]
          },
          "metadata": {},
          "execution_count": 7
        }
      ],
      "source": [
        "reuters.categories()"
      ]
    },
    {
      "cell_type": "code",
      "execution_count": 8,
      "metadata": {
        "colab": {
          "base_uri": "https://localhost:8080/",
          "height": 762
        },
        "id": "nBv2zjUihe0y",
        "outputId": "e6f43bff-d66c-4cfd-c3b9-884b37911382"
      },
      "outputs": [
        {
          "output_type": "error",
          "ename": "LookupError",
          "evalue": "ignored",
          "traceback": [
            "\u001b[0;31m---------------------------------------------------------------------------\u001b[0m",
            "\u001b[0;31mLookupError\u001b[0m                               Traceback (most recent call last)",
            "\u001b[0;32m/usr/local/lib/python3.7/dist-packages/IPython/core/formatters.py\u001b[0m in \u001b[0;36m__call__\u001b[0;34m(self, obj)\u001b[0m\n\u001b[1;32m    700\u001b[0m                 \u001b[0mtype_pprinters\u001b[0m\u001b[0;34m=\u001b[0m\u001b[0mself\u001b[0m\u001b[0;34m.\u001b[0m\u001b[0mtype_printers\u001b[0m\u001b[0;34m,\u001b[0m\u001b[0;34m\u001b[0m\u001b[0;34m\u001b[0m\u001b[0m\n\u001b[1;32m    701\u001b[0m                 deferred_pprinters=self.deferred_printers)\n\u001b[0;32m--> 702\u001b[0;31m             \u001b[0mprinter\u001b[0m\u001b[0;34m.\u001b[0m\u001b[0mpretty\u001b[0m\u001b[0;34m(\u001b[0m\u001b[0mobj\u001b[0m\u001b[0;34m)\u001b[0m\u001b[0;34m\u001b[0m\u001b[0;34m\u001b[0m\u001b[0m\n\u001b[0m\u001b[1;32m    703\u001b[0m             \u001b[0mprinter\u001b[0m\u001b[0;34m.\u001b[0m\u001b[0mflush\u001b[0m\u001b[0;34m(\u001b[0m\u001b[0;34m)\u001b[0m\u001b[0;34m\u001b[0m\u001b[0;34m\u001b[0m\u001b[0m\n\u001b[1;32m    704\u001b[0m             \u001b[0;32mreturn\u001b[0m \u001b[0mstream\u001b[0m\u001b[0;34m.\u001b[0m\u001b[0mgetvalue\u001b[0m\u001b[0;34m(\u001b[0m\u001b[0;34m)\u001b[0m\u001b[0;34m\u001b[0m\u001b[0;34m\u001b[0m\u001b[0m\n",
            "\u001b[0;32m/usr/local/lib/python3.7/dist-packages/IPython/lib/pretty.py\u001b[0m in \u001b[0;36mpretty\u001b[0;34m(self, obj)\u001b[0m\n\u001b[1;32m    400\u001b[0m                         \u001b[0;32mif\u001b[0m \u001b[0mcls\u001b[0m \u001b[0;32mis\u001b[0m \u001b[0;32mnot\u001b[0m \u001b[0mobject\u001b[0m\u001b[0;31m \u001b[0m\u001b[0;31m\\\u001b[0m\u001b[0;34m\u001b[0m\u001b[0;34m\u001b[0m\u001b[0m\n\u001b[1;32m    401\u001b[0m                                 \u001b[0;32mand\u001b[0m \u001b[0mcallable\u001b[0m\u001b[0;34m(\u001b[0m\u001b[0mcls\u001b[0m\u001b[0;34m.\u001b[0m\u001b[0m__dict__\u001b[0m\u001b[0;34m.\u001b[0m\u001b[0mget\u001b[0m\u001b[0;34m(\u001b[0m\u001b[0;34m'__repr__'\u001b[0m\u001b[0;34m)\u001b[0m\u001b[0;34m)\u001b[0m\u001b[0;34m:\u001b[0m\u001b[0;34m\u001b[0m\u001b[0;34m\u001b[0m\u001b[0m\n\u001b[0;32m--> 402\u001b[0;31m                             \u001b[0;32mreturn\u001b[0m \u001b[0m_repr_pprint\u001b[0m\u001b[0;34m(\u001b[0m\u001b[0mobj\u001b[0m\u001b[0;34m,\u001b[0m \u001b[0mself\u001b[0m\u001b[0;34m,\u001b[0m \u001b[0mcycle\u001b[0m\u001b[0;34m)\u001b[0m\u001b[0;34m\u001b[0m\u001b[0;34m\u001b[0m\u001b[0m\n\u001b[0m\u001b[1;32m    403\u001b[0m \u001b[0;34m\u001b[0m\u001b[0m\n\u001b[1;32m    404\u001b[0m             \u001b[0;32mreturn\u001b[0m \u001b[0m_default_pprint\u001b[0m\u001b[0;34m(\u001b[0m\u001b[0mobj\u001b[0m\u001b[0;34m,\u001b[0m \u001b[0mself\u001b[0m\u001b[0;34m,\u001b[0m \u001b[0mcycle\u001b[0m\u001b[0;34m)\u001b[0m\u001b[0;34m\u001b[0m\u001b[0;34m\u001b[0m\u001b[0m\n",
            "\u001b[0;32m/usr/local/lib/python3.7/dist-packages/IPython/lib/pretty.py\u001b[0m in \u001b[0;36m_repr_pprint\u001b[0;34m(obj, p, cycle)\u001b[0m\n\u001b[1;32m    695\u001b[0m     \u001b[0;34m\"\"\"A pprint that just redirects to the normal repr function.\"\"\"\u001b[0m\u001b[0;34m\u001b[0m\u001b[0;34m\u001b[0m\u001b[0m\n\u001b[1;32m    696\u001b[0m     \u001b[0;31m# Find newlines and replace them with p.break_()\u001b[0m\u001b[0;34m\u001b[0m\u001b[0;34m\u001b[0m\u001b[0;34m\u001b[0m\u001b[0m\n\u001b[0;32m--> 697\u001b[0;31m     \u001b[0moutput\u001b[0m \u001b[0;34m=\u001b[0m \u001b[0mrepr\u001b[0m\u001b[0;34m(\u001b[0m\u001b[0mobj\u001b[0m\u001b[0;34m)\u001b[0m\u001b[0;34m\u001b[0m\u001b[0;34m\u001b[0m\u001b[0m\n\u001b[0m\u001b[1;32m    698\u001b[0m     \u001b[0;32mfor\u001b[0m \u001b[0midx\u001b[0m\u001b[0;34m,\u001b[0m\u001b[0moutput_line\u001b[0m \u001b[0;32min\u001b[0m \u001b[0menumerate\u001b[0m\u001b[0;34m(\u001b[0m\u001b[0moutput\u001b[0m\u001b[0;34m.\u001b[0m\u001b[0msplitlines\u001b[0m\u001b[0;34m(\u001b[0m\u001b[0;34m)\u001b[0m\u001b[0;34m)\u001b[0m\u001b[0;34m:\u001b[0m\u001b[0;34m\u001b[0m\u001b[0;34m\u001b[0m\u001b[0m\n\u001b[1;32m    699\u001b[0m         \u001b[0;32mif\u001b[0m \u001b[0midx\u001b[0m\u001b[0;34m:\u001b[0m\u001b[0;34m\u001b[0m\u001b[0;34m\u001b[0m\u001b[0m\n",
            "\u001b[0;32m/usr/local/lib/python3.7/dist-packages/nltk/collections.py\u001b[0m in \u001b[0;36m__repr__\u001b[0;34m(self)\u001b[0m\n\u001b[1;32m    224\u001b[0m         \u001b[0mpieces\u001b[0m \u001b[0;34m=\u001b[0m \u001b[0;34m[\u001b[0m\u001b[0;34m]\u001b[0m\u001b[0;34m\u001b[0m\u001b[0;34m\u001b[0m\u001b[0m\n\u001b[1;32m    225\u001b[0m         \u001b[0mlength\u001b[0m \u001b[0;34m=\u001b[0m \u001b[0;36m5\u001b[0m\u001b[0;34m\u001b[0m\u001b[0;34m\u001b[0m\u001b[0m\n\u001b[0;32m--> 226\u001b[0;31m         \u001b[0;32mfor\u001b[0m \u001b[0melt\u001b[0m \u001b[0;32min\u001b[0m \u001b[0mself\u001b[0m\u001b[0;34m:\u001b[0m\u001b[0;34m\u001b[0m\u001b[0;34m\u001b[0m\u001b[0m\n\u001b[0m\u001b[1;32m    227\u001b[0m             \u001b[0mpieces\u001b[0m\u001b[0;34m.\u001b[0m\u001b[0mappend\u001b[0m\u001b[0;34m(\u001b[0m\u001b[0mrepr\u001b[0m\u001b[0;34m(\u001b[0m\u001b[0melt\u001b[0m\u001b[0;34m)\u001b[0m\u001b[0;34m)\u001b[0m\u001b[0;34m\u001b[0m\u001b[0;34m\u001b[0m\u001b[0m\n\u001b[1;32m    228\u001b[0m             \u001b[0mlength\u001b[0m \u001b[0;34m+=\u001b[0m \u001b[0mlen\u001b[0m\u001b[0;34m(\u001b[0m\u001b[0mpieces\u001b[0m\u001b[0;34m[\u001b[0m\u001b[0;34m-\u001b[0m\u001b[0;36m1\u001b[0m\u001b[0;34m]\u001b[0m\u001b[0;34m)\u001b[0m \u001b[0;34m+\u001b[0m \u001b[0;36m2\u001b[0m\u001b[0;34m\u001b[0m\u001b[0;34m\u001b[0m\u001b[0m\n",
            "\u001b[0;32m/usr/local/lib/python3.7/dist-packages/nltk/corpus/reader/util.py\u001b[0m in \u001b[0;36miterate_from\u001b[0;34m(self, start_tok)\u001b[0m\n\u001b[1;32m    304\u001b[0m             \u001b[0mself\u001b[0m\u001b[0;34m.\u001b[0m\u001b[0m_current_toknum\u001b[0m \u001b[0;34m=\u001b[0m \u001b[0mtoknum\u001b[0m\u001b[0;34m\u001b[0m\u001b[0;34m\u001b[0m\u001b[0m\n\u001b[1;32m    305\u001b[0m             \u001b[0mself\u001b[0m\u001b[0;34m.\u001b[0m\u001b[0m_current_blocknum\u001b[0m \u001b[0;34m=\u001b[0m \u001b[0mblock_index\u001b[0m\u001b[0;34m\u001b[0m\u001b[0;34m\u001b[0m\u001b[0m\n\u001b[0;32m--> 306\u001b[0;31m             \u001b[0mtokens\u001b[0m \u001b[0;34m=\u001b[0m \u001b[0mself\u001b[0m\u001b[0;34m.\u001b[0m\u001b[0mread_block\u001b[0m\u001b[0;34m(\u001b[0m\u001b[0mself\u001b[0m\u001b[0;34m.\u001b[0m\u001b[0m_stream\u001b[0m\u001b[0;34m)\u001b[0m\u001b[0;34m\u001b[0m\u001b[0;34m\u001b[0m\u001b[0m\n\u001b[0m\u001b[1;32m    307\u001b[0m             assert isinstance(tokens, (tuple, list, AbstractLazySequence)), (\n\u001b[1;32m    308\u001b[0m                 \u001b[0;34m\"block reader %s() should return list or tuple.\"\u001b[0m\u001b[0;34m\u001b[0m\u001b[0;34m\u001b[0m\u001b[0m\n",
            "\u001b[0;32m/usr/local/lib/python3.7/dist-packages/nltk/corpus/reader/plaintext.py\u001b[0m in \u001b[0;36m_read_sent_block\u001b[0;34m(self, stream)\u001b[0m\n\u001b[1;32m    124\u001b[0m                 [\n\u001b[1;32m    125\u001b[0m                     \u001b[0mself\u001b[0m\u001b[0;34m.\u001b[0m\u001b[0m_word_tokenizer\u001b[0m\u001b[0;34m.\u001b[0m\u001b[0mtokenize\u001b[0m\u001b[0;34m(\u001b[0m\u001b[0msent\u001b[0m\u001b[0;34m)\u001b[0m\u001b[0;34m\u001b[0m\u001b[0;34m\u001b[0m\u001b[0m\n\u001b[0;32m--> 126\u001b[0;31m                     \u001b[0;32mfor\u001b[0m \u001b[0msent\u001b[0m \u001b[0;32min\u001b[0m \u001b[0mself\u001b[0m\u001b[0;34m.\u001b[0m\u001b[0m_sent_tokenizer\u001b[0m\u001b[0;34m.\u001b[0m\u001b[0mtokenize\u001b[0m\u001b[0;34m(\u001b[0m\u001b[0mpara\u001b[0m\u001b[0;34m)\u001b[0m\u001b[0;34m\u001b[0m\u001b[0;34m\u001b[0m\u001b[0m\n\u001b[0m\u001b[1;32m    127\u001b[0m                 ]\n\u001b[1;32m    128\u001b[0m             )\n",
            "\u001b[0;32m/usr/local/lib/python3.7/dist-packages/nltk/data.py\u001b[0m in \u001b[0;36m__getattr__\u001b[0;34m(self, attr)\u001b[0m\n\u001b[1;32m    901\u001b[0m \u001b[0;34m\u001b[0m\u001b[0m\n\u001b[1;32m    902\u001b[0m     \u001b[0;32mdef\u001b[0m \u001b[0m__getattr__\u001b[0m\u001b[0;34m(\u001b[0m\u001b[0mself\u001b[0m\u001b[0;34m,\u001b[0m \u001b[0mattr\u001b[0m\u001b[0;34m)\u001b[0m\u001b[0;34m:\u001b[0m\u001b[0;34m\u001b[0m\u001b[0;34m\u001b[0m\u001b[0m\n\u001b[0;32m--> 903\u001b[0;31m         \u001b[0mself\u001b[0m\u001b[0;34m.\u001b[0m\u001b[0m__load\u001b[0m\u001b[0;34m(\u001b[0m\u001b[0;34m)\u001b[0m\u001b[0;34m\u001b[0m\u001b[0;34m\u001b[0m\u001b[0m\n\u001b[0m\u001b[1;32m    904\u001b[0m         \u001b[0;31m# This looks circular, but its not, since __load() changes our\u001b[0m\u001b[0;34m\u001b[0m\u001b[0;34m\u001b[0m\u001b[0;34m\u001b[0m\u001b[0m\n\u001b[1;32m    905\u001b[0m         \u001b[0;31m# __class__ to something new:\u001b[0m\u001b[0;34m\u001b[0m\u001b[0;34m\u001b[0m\u001b[0;34m\u001b[0m\u001b[0m\n",
            "\u001b[0;32m/usr/local/lib/python3.7/dist-packages/nltk/data.py\u001b[0m in \u001b[0;36m__load\u001b[0;34m(self)\u001b[0m\n\u001b[1;32m    893\u001b[0m \u001b[0;34m\u001b[0m\u001b[0m\n\u001b[1;32m    894\u001b[0m     \u001b[0;32mdef\u001b[0m \u001b[0m__load\u001b[0m\u001b[0;34m(\u001b[0m\u001b[0mself\u001b[0m\u001b[0;34m)\u001b[0m\u001b[0;34m:\u001b[0m\u001b[0;34m\u001b[0m\u001b[0;34m\u001b[0m\u001b[0m\n\u001b[0;32m--> 895\u001b[0;31m         \u001b[0mresource\u001b[0m \u001b[0;34m=\u001b[0m \u001b[0mload\u001b[0m\u001b[0;34m(\u001b[0m\u001b[0mself\u001b[0m\u001b[0;34m.\u001b[0m\u001b[0m_path\u001b[0m\u001b[0;34m)\u001b[0m\u001b[0;34m\u001b[0m\u001b[0;34m\u001b[0m\u001b[0m\n\u001b[0m\u001b[1;32m    896\u001b[0m         \u001b[0;31m# This is where the magic happens!  Transform ourselves into\u001b[0m\u001b[0;34m\u001b[0m\u001b[0;34m\u001b[0m\u001b[0;34m\u001b[0m\u001b[0m\n\u001b[1;32m    897\u001b[0m         \u001b[0;31m# the object by modifying our own __dict__ and __class__ to\u001b[0m\u001b[0;34m\u001b[0m\u001b[0;34m\u001b[0m\u001b[0;34m\u001b[0m\u001b[0m\n",
            "\u001b[0;32m/usr/local/lib/python3.7/dist-packages/nltk/data.py\u001b[0m in \u001b[0;36mload\u001b[0;34m(resource_url, format, cache, verbose, logic_parser, fstruct_reader, encoding)\u001b[0m\n\u001b[1;32m    748\u001b[0m \u001b[0;34m\u001b[0m\u001b[0m\n\u001b[1;32m    749\u001b[0m     \u001b[0;31m# Load the resource.\u001b[0m\u001b[0;34m\u001b[0m\u001b[0;34m\u001b[0m\u001b[0;34m\u001b[0m\u001b[0m\n\u001b[0;32m--> 750\u001b[0;31m     \u001b[0mopened_resource\u001b[0m \u001b[0;34m=\u001b[0m \u001b[0m_open\u001b[0m\u001b[0;34m(\u001b[0m\u001b[0mresource_url\u001b[0m\u001b[0;34m)\u001b[0m\u001b[0;34m\u001b[0m\u001b[0;34m\u001b[0m\u001b[0m\n\u001b[0m\u001b[1;32m    751\u001b[0m \u001b[0;34m\u001b[0m\u001b[0m\n\u001b[1;32m    752\u001b[0m     \u001b[0;32mif\u001b[0m \u001b[0mformat\u001b[0m \u001b[0;34m==\u001b[0m \u001b[0;34m\"raw\"\u001b[0m\u001b[0;34m:\u001b[0m\u001b[0;34m\u001b[0m\u001b[0;34m\u001b[0m\u001b[0m\n",
            "\u001b[0;32m/usr/local/lib/python3.7/dist-packages/nltk/data.py\u001b[0m in \u001b[0;36m_open\u001b[0;34m(resource_url)\u001b[0m\n\u001b[1;32m    874\u001b[0m \u001b[0;34m\u001b[0m\u001b[0m\n\u001b[1;32m    875\u001b[0m     \u001b[0;32mif\u001b[0m \u001b[0mprotocol\u001b[0m \u001b[0;32mis\u001b[0m \u001b[0;32mNone\u001b[0m \u001b[0;32mor\u001b[0m \u001b[0mprotocol\u001b[0m\u001b[0;34m.\u001b[0m\u001b[0mlower\u001b[0m\u001b[0;34m(\u001b[0m\u001b[0;34m)\u001b[0m \u001b[0;34m==\u001b[0m \u001b[0;34m\"nltk\"\u001b[0m\u001b[0;34m:\u001b[0m\u001b[0;34m\u001b[0m\u001b[0;34m\u001b[0m\u001b[0m\n\u001b[0;32m--> 876\u001b[0;31m         \u001b[0;32mreturn\u001b[0m \u001b[0mfind\u001b[0m\u001b[0;34m(\u001b[0m\u001b[0mpath_\u001b[0m\u001b[0;34m,\u001b[0m \u001b[0mpath\u001b[0m \u001b[0;34m+\u001b[0m \u001b[0;34m[\u001b[0m\u001b[0;34m\"\"\u001b[0m\u001b[0;34m]\u001b[0m\u001b[0;34m)\u001b[0m\u001b[0;34m.\u001b[0m\u001b[0mopen\u001b[0m\u001b[0;34m(\u001b[0m\u001b[0;34m)\u001b[0m\u001b[0;34m\u001b[0m\u001b[0;34m\u001b[0m\u001b[0m\n\u001b[0m\u001b[1;32m    877\u001b[0m     \u001b[0;32melif\u001b[0m \u001b[0mprotocol\u001b[0m\u001b[0;34m.\u001b[0m\u001b[0mlower\u001b[0m\u001b[0;34m(\u001b[0m\u001b[0;34m)\u001b[0m \u001b[0;34m==\u001b[0m \u001b[0;34m\"file\"\u001b[0m\u001b[0;34m:\u001b[0m\u001b[0;34m\u001b[0m\u001b[0;34m\u001b[0m\u001b[0m\n\u001b[1;32m    878\u001b[0m         \u001b[0;31m# urllib might not use mode='rb', so handle this one ourselves:\u001b[0m\u001b[0;34m\u001b[0m\u001b[0;34m\u001b[0m\u001b[0;34m\u001b[0m\u001b[0m\n",
            "\u001b[0;32m/usr/local/lib/python3.7/dist-packages/nltk/data.py\u001b[0m in \u001b[0;36mfind\u001b[0;34m(resource_name, paths)\u001b[0m\n\u001b[1;32m    581\u001b[0m     \u001b[0msep\u001b[0m \u001b[0;34m=\u001b[0m \u001b[0;34m\"*\"\u001b[0m \u001b[0;34m*\u001b[0m \u001b[0;36m70\u001b[0m\u001b[0;34m\u001b[0m\u001b[0;34m\u001b[0m\u001b[0m\n\u001b[1;32m    582\u001b[0m     \u001b[0mresource_not_found\u001b[0m \u001b[0;34m=\u001b[0m \u001b[0;34mf\"\\n{sep}\\n{msg}\\n{sep}\\n\"\u001b[0m\u001b[0;34m\u001b[0m\u001b[0;34m\u001b[0m\u001b[0m\n\u001b[0;32m--> 583\u001b[0;31m     \u001b[0;32mraise\u001b[0m \u001b[0mLookupError\u001b[0m\u001b[0;34m(\u001b[0m\u001b[0mresource_not_found\u001b[0m\u001b[0;34m)\u001b[0m\u001b[0;34m\u001b[0m\u001b[0;34m\u001b[0m\u001b[0m\n\u001b[0m\u001b[1;32m    584\u001b[0m \u001b[0;34m\u001b[0m\u001b[0m\n\u001b[1;32m    585\u001b[0m \u001b[0;34m\u001b[0m\u001b[0m\n",
            "\u001b[0;31mLookupError\u001b[0m: \n**********************************************************************\n  Resource \u001b[93mpunkt\u001b[0m not found.\n  Please use the NLTK Downloader to obtain the resource:\n\n  \u001b[31m>>> import nltk\n  >>> nltk.download('punkt')\n  \u001b[0m\n  For more information see: https://www.nltk.org/data.html\n\n  Attempted to load \u001b[93mtokenizers/punkt/PY3/english.pickle\u001b[0m\n\n  Searched in:\n    - '/root/nltk_data'\n    - '/usr/nltk_data'\n    - '/usr/share/nltk_data'\n    - '/usr/lib/nltk_data'\n    - '/usr/share/nltk_data'\n    - '/usr/local/share/nltk_data'\n    - '/usr/lib/nltk_data'\n    - '/usr/local/lib/nltk_data'\n    - ''\n**********************************************************************\n"
          ]
        }
      ],
      "source": [
        "reuters.sents('test/14826')"
      ]
    },
    {
      "cell_type": "markdown",
      "metadata": {
        "id": "Giu2MNpZhe00"
      },
      "source": [
        "## 2. Bigrams\n",
        "\n",
        "`Bigrams??` Ok be a bit patient, we will learn about this next week, so consider this a bit of advanced practice for that :) "
      ]
    },
    {
      "cell_type": "code",
      "execution_count": 9,
      "metadata": {
        "colab": {
          "base_uri": "https://localhost:8080/"
        },
        "id": "JUTBDSdkhe00",
        "outputId": "b0ebeb6f-eab5-42c7-c21d-f33557cc993d"
      },
      "outputs": [
        {
          "output_type": "execute_result",
          "data": {
            "text/plain": [
              "142723"
            ]
          },
          "metadata": {},
          "execution_count": 9
        }
      ],
      "source": [
        "trade_words = reuters.words(categories='trade')\n",
        "len(trade_words)"
      ]
    },
    {
      "cell_type": "code",
      "execution_count": 10,
      "metadata": {
        "colab": {
          "base_uri": "https://localhost:8080/"
        },
        "id": "VT1rPL4vhe02",
        "outputId": "281b1a5a-14c4-4eca-ee64-f517b6c43929"
      },
      "outputs": [
        {
          "output_type": "execute_result",
          "data": {
            "text/plain": [
              "['ASIAN', 'EXPORTERS', 'FEAR', 'DAMAGE', 'FROM', 'U', ...]"
            ]
          },
          "metadata": {},
          "execution_count": 10
        }
      ],
      "source": [
        "trade_words_condensed = trade_words[:100]\n",
        "trade_words_condensed"
      ]
    },
    {
      "cell_type": "code",
      "execution_count": 11,
      "metadata": {
        "colab": {
          "base_uri": "https://localhost:8080/"
        },
        "id": "5hVQ0H4Mhe02",
        "outputId": "63db9537-0928-4253-ca32-261be1612897"
      },
      "outputs": [
        {
          "output_type": "execute_result",
          "data": {
            "text/plain": [
              "['asian',\n",
              " 'exporters',\n",
              " 'fear',\n",
              " 'damage',\n",
              " 'u',\n",
              " '.',\n",
              " '.-',\n",
              " 'japan',\n",
              " 'rift',\n",
              " 'mounting']"
            ]
          },
          "metadata": {},
          "execution_count": 11
        }
      ],
      "source": [
        "from nltk.corpus import stopwords\n",
        "\n",
        "# Remove stopwords from trade_words_condensed and lower case it\n",
        "trade_words_condensed = [w.lower() for w in trade_words_condensed if w.lower() not in stopwords.words('english')]\n",
        "trade_words_condensed[:10]"
      ]
    },
    {
      "cell_type": "code",
      "execution_count": 12,
      "metadata": {
        "colab": {
          "base_uri": "https://localhost:8080/"
        },
        "id": "vjU9o_CMhe03",
        "outputId": "8b52e331-c75b-46e9-e74b-42c2b93a8886"
      },
      "outputs": [
        {
          "output_type": "execute_result",
          "data": {
            "text/plain": [
              "['asian',\n",
              " 'exporters',\n",
              " 'fear',\n",
              " 'damage',\n",
              " 'u',\n",
              " 'japan',\n",
              " 'rift',\n",
              " 'mounting',\n",
              " 'trade',\n",
              " 'friction',\n",
              " 'u',\n",
              " 'japan',\n",
              " 'raised',\n",
              " 'fears',\n",
              " 'among',\n",
              " 'many',\n",
              " 'asia',\n",
              " 'exporting',\n",
              " 'nations',\n",
              " 'row',\n",
              " 'could',\n",
              " 'inflict',\n",
              " 'far',\n",
              " 'reaching',\n",
              " 'economic',\n",
              " 'damage',\n",
              " 'businessmen',\n",
              " 'officials',\n",
              " 'said',\n",
              " 'told',\n",
              " 'reuter',\n",
              " 'correspondents',\n",
              " 'asian',\n",
              " 'capitals',\n",
              " 'u',\n",
              " 'move',\n",
              " 'japan',\n",
              " 'might',\n",
              " 'boost',\n",
              " 'protectionist',\n",
              " 'sentiment',\n",
              " 'u',\n",
              " 'lead',\n",
              " 'curbs',\n",
              " 'american',\n",
              " 'imports',\n",
              " 'products',\n",
              " 'exporters',\n",
              " 'said',\n",
              " 'conflict',\n",
              " 'would',\n",
              " 'hurt',\n",
              " 'long']"
            ]
          },
          "metadata": {},
          "execution_count": 12
        }
      ],
      "source": [
        "import string # Contains string constants eg. ascii_lowercase which is 'a...z', string formatting functions, other string functions like .capwords() and .translate().\n",
        "\n",
        "# Remove punctuation\n",
        "# trade_words_condensed = [w for w in trade_words_condensed if w not in string.punctuation]\n",
        "punct_combo = [c + \"\\\"\" for c in string.punctuation ] + [\"\\\"\" + c for c in string.punctuation] + [\".-\", \":-\", \"..\", \"...\"]\n",
        "trade_words_condensed = [w for w in trade_words_condensed if w not in string.punctuation and w not in punct_combo]\n",
        "trade_words_condensed"
      ]
    },
    {
      "cell_type": "code",
      "execution_count": 13,
      "metadata": {
        "colab": {
          "base_uri": "https://localhost:8080/"
        },
        "id": "9qs2Eavohe04",
        "outputId": "e1c38594-3508-4d89-c77f-cbcb06a169c8"
      },
      "outputs": [
        {
          "output_type": "execute_result",
          "data": {
            "text/plain": [
              "[('asian', 'exporters'),\n",
              " ('exporters', 'fear'),\n",
              " ('fear', 'damage'),\n",
              " ('damage', 'u'),\n",
              " ('u', 'japan')]"
            ]
          },
          "metadata": {},
          "execution_count": 13
        }
      ],
      "source": [
        "from nltk import bigrams\n",
        "\n",
        "bi_trade_words_condensed = list(bigrams(trade_words_condensed))\n",
        "bi_trade_words_condensed[:5]"
      ]
    },
    {
      "cell_type": "code",
      "execution_count": 14,
      "metadata": {
        "colab": {
          "base_uri": "https://localhost:8080/"
        },
        "id": "WOZWFuOghe04",
        "outputId": "d97d56f3-0373-4d80-9445-aef29d584da8"
      },
      "outputs": [
        {
          "output_type": "stream",
          "name": "stdout",
          "text": [
            "('u', 'japan') 2\n",
            "('asian', 'exporters') 1\n",
            "('exporters', 'fear') 1\n"
          ]
        }
      ],
      "source": [
        "from nltk import FreqDist\n",
        "\n",
        "bi_fdist = FreqDist(bi_trade_words_condensed)\n",
        "\n",
        "for word, frequency in bi_fdist.most_common(3):\n",
        "    print(word, frequency)"
      ]
    },
    {
      "cell_type": "code",
      "execution_count": 15,
      "metadata": {
        "colab": {
          "base_uri": "https://localhost:8080/",
          "height": 386
        },
        "id": "3rozAZ57he05",
        "outputId": "5ed21b09-8f17-48b1-e9d1-2421b4209ad3"
      },
      "outputs": [
        {
          "output_type": "display_data",
          "data": {
            "text/plain": [
              "<Figure size 432x288 with 1 Axes>"
            ],
            "image/png": "[encoded data removed]"
          },
          "metadata": {
            "needs_background": "light"
          }
        },
        {
          "output_type": "execute_result",
          "data": {
            "text/plain": [
              "<matplotlib.axes._subplots.AxesSubplot at 0x7f99a0f73fd0>"
            ]
          },
          "metadata": {},
          "execution_count": 15
        }
      ],
      "source": [
        "bi_fdist.plot(3, cumulative=False)"
      ]
    },
    {
      "cell_type": "markdown",
      "metadata": {
        "id": "oykAM00Jhe06"
      },
      "source": [
        "## 3. Stemming"
      ]
    },
    {
      "cell_type": "code",
      "execution_count": 16,
      "metadata": {
        "colab": {
          "base_uri": "https://localhost:8080/"
        },
        "id": "CSg8UwxAhe06",
        "outputId": "60bc7854-e540-4c4f-884b-74f08c432dbe"
      },
      "outputs": [
        {
          "output_type": "stream",
          "name": "stdout",
          "text": [
            "re-test re-testing re-test\n"
          ]
        }
      ],
      "source": [
        "from nltk.stem import (PorterStemmer, LancasterStemmer)\n",
        "from nltk.stem.snowball import SnowballStemmer # This is \"Porter 2\" and is considered the optimal stemmer.\n",
        "\n",
        "porter = PorterStemmer()\n",
        "lancaster = LancasterStemmer()\n",
        "snowball = SnowballStemmer(\"english\")\n",
        "\n",
        "print(porter.stem('Re-testing'), lancaster.stem('Re-testing'), snowball.stem('Re-testing'))"
      ]
    },
    {
      "cell_type": "code",
      "execution_count": 17,
      "metadata": {
        "colab": {
          "base_uri": "https://localhost:8080/"
        },
        "id": "cKkWV4VAhe07",
        "outputId": "a1de2968-3a57-4692-ebea-93bfbb01de76"
      },
      "outputs": [
        {
          "output_type": "stream",
          "name": "stdout",
          "text": [
            "(Sorry guys, no Greek yet)\n"
          ]
        },
        {
          "output_type": "execute_result",
          "data": {
            "text/plain": [
              "('arabic',\n",
              " 'danish',\n",
              " 'dutch',\n",
              " 'english',\n",
              " 'finnish',\n",
              " 'french',\n",
              " 'german',\n",
              " 'hungarian',\n",
              " 'italian',\n",
              " 'norwegian',\n",
              " 'porter',\n",
              " 'portuguese',\n",
              " 'romanian',\n",
              " 'russian',\n",
              " 'spanish',\n",
              " 'swedish')"
            ]
          },
          "metadata": {},
          "execution_count": 17
        }
      ],
      "source": [
        "# Fun fact: SnowballStemmer can stem several other languages beside English.\n",
        "# To make, for instance, a French stemmer, we can do the following: french_stemmer = SnowballStemmer('french')\n",
        "print('(Sorry guys, no Greek yet)')\n",
        "\n",
        "SnowballStemmer.languages"
      ]
    },
    {
      "cell_type": "code",
      "execution_count": 34,
      "metadata": {
        "colab": {
          "base_uri": "https://localhost:8080/"
        },
        "id": "yh2l1tV5he08",
        "outputId": "b5c93826-3e6a-4827-ff06-c53b9d5e8302"
      },
      "outputs": [
        {
          "output_type": "stream",
          "name": "stderr",
          "text": [
            "[nltk_data] Downloading package punkt to /root/nltk_data...\n",
            "[nltk_data]   Package punkt is already up-to-date!\n"
          ]
        },
        {
          "output_type": "execute_result",
          "data": {
            "text/plain": [
              "{33: None,\n",
              " 34: None,\n",
              " 35: None,\n",
              " 36: None,\n",
              " 37: None,\n",
              " 38: None,\n",
              " 39: None,\n",
              " 40: None,\n",
              " 41: None,\n",
              " 42: None,\n",
              " 43: None,\n",
              " 44: None,\n",
              " 45: None,\n",
              " 46: None,\n",
              " 47: None,\n",
              " 58: None,\n",
              " 59: None,\n",
              " 60: None,\n",
              " 61: None,\n",
              " 62: None,\n",
              " 63: None,\n",
              " 64: None,\n",
              " 91: None,\n",
              " 92: None,\n",
              " 93: None,\n",
              " 94: None,\n",
              " 95: None,\n",
              " 96: None,\n",
              " 123: None,\n",
              " 124: None,\n",
              " 125: None,\n",
              " 126: None}"
            ]
          },
          "metadata": {},
          "execution_count": 34
        }
      ],
      "source": [
        "import nltk\n",
        "nltk.download('punkt')\n",
        "from nltk import word_tokenize\n",
        "\n",
        "sentence = \"So, we'll go no more a-roving. So late into the night, Though the heart be still as loving, And the moon be still as bright.\"\n",
        "\n",
        "# This uses the 3-argument version of str.maketrans with arguments (x, y, z) where 'x' and 'y' must be equal-length strings and characters in 'x' are replaced by characters in 'y'. 'z' is a string (string.punctuation here) where each character in the string is mapped to None\n",
        "#translator = str.maketrans('', '', string.punctuation)\n",
        "#translator\n",
        "\n",
        "# This is an alternative that creates a dictionary mapping of every character from string.punctuation to None (this will also work but creates a whole dictionary so is slower)\n",
        "translator = str.maketrans(dict.fromkeys(string.punctuation))\n",
        "translator"
      ]
    },
    {
      "cell_type": "code",
      "execution_count": 35,
      "metadata": {
        "colab": {
          "base_uri": "https://localhost:8080/"
        },
        "id": "D87_THwLhe08",
        "outputId": "140900e6-fdb5-454f-823f-450060dcd35a"
      },
      "outputs": [
        {
          "output_type": "execute_result",
          "data": {
            "text/plain": [
              "['So', 'well', 'go']"
            ]
          },
          "metadata": {},
          "execution_count": 35
        }
      ],
      "source": [
        "\n",
        "tokens = word_tokenize(sentence.translate(translator))\n",
        "tokens[:3]"
      ]
    },
    {
      "cell_type": "code",
      "execution_count": 36,
      "metadata": {
        "colab": {
          "base_uri": "https://localhost:8080/"
        },
        "id": "v1FgdpE6he09",
        "outputId": "c1869a9a-fc77-4985-82d6-e3d756016980"
      },
      "outputs": [
        {
          "output_type": "stream",
          "name": "stdout",
          "text": [
            "['so', 'well', 'go', 'no', 'more', 'arov', 'so', 'late', 'into', 'the', 'night', 'though', 'the', 'heart', 'be', 'still', 'as', 'love', 'and', 'the', 'moon', 'be', 'still', 'as', 'bright']\n",
            "['so', 'wel', 'go', 'no', 'mor', 'arov', 'so', 'lat', 'into', 'the', 'night', 'though', 'the', 'heart', 'be', 'stil', 'as', 'lov', 'and', 'the', 'moon', 'be', 'stil', 'as', 'bright']\n",
            "['so', 'well', 'go', 'no', 'more', 'arov', 'so', 'late', 'into', 'the', 'night', 'though', 'the', 'heart', 'be', 'still', 'as', 'love', 'and', 'the', 'moon', 'be', 'still', 'as', 'bright']\n"
          ]
        }
      ],
      "source": [
        "for stemmer in [porter, lancaster, snowball]:\n",
        "    print([stemmer.stem(t) for t in tokens])"
      ]
    },
    {
      "cell_type": "markdown",
      "metadata": {
        "id": "zfnx7izNhe09"
      },
      "source": [
        "## 4. Lemmatizing"
      ]
    },
    {
      "cell_type": "markdown",
      "metadata": {
        "id": "rOD_Ruhfhe0-"
      },
      "source": [
        "Lemmatization aims to achieve a similar base \"stem\" for a word, but aims to derive the genuine dictionary root word, not just a trunctated version of the word."
      ]
    },
    {
      "cell_type": "code",
      "execution_count": 29,
      "metadata": {
        "colab": {
          "base_uri": "https://localhost:8080/"
        },
        "id": "hhC0IZMJhe0-",
        "outputId": "358130c6-0720-4ae8-fe48-c19613d30936"
      },
      "outputs": [
        {
          "output_type": "stream",
          "name": "stderr",
          "text": [
            "[nltk_data] Downloading package omw-1.4 to /root/nltk_data...\n"
          ]
        },
        {
          "output_type": "stream",
          "name": "stdout",
          "text": [
            "brightening box\n"
          ]
        }
      ],
      "source": [
        "import nltk\n",
        "nltk.download('omw-1.4')\n",
        "# The default lemmatization method with the Python NLTK is the WordNet lemmatizer.\n",
        "from nltk import WordNetLemmatizer\n",
        "\n",
        "wnl = WordNetLemmatizer()\n",
        "\n",
        "print(wnl.lemmatize('brightening'), wnl.lemmatize('boxes'))"
      ]
    },
    {
      "cell_type": "code",
      "execution_count": 30,
      "metadata": {
        "colab": {
          "base_uri": "https://localhost:8080/",
          "height": 36
        },
        "id": "IBpiUnQthe0-",
        "outputId": "0bf5a216-a800-497f-9f8b-409ef5c1d1e6"
      },
      "outputs": [
        {
          "output_type": "execute_result",
          "data": {
            "text/plain": [
              "'brighten'"
            ],
            "application/vnd.google.colaboratory.intrinsic+json": {
              "type": "string"
            }
          },
          "metadata": {},
          "execution_count": 30
        }
      ],
      "source": [
        "# As we saw above, sometimes, if we try to lemmatize a word, it will end up with the same word. This is because the default part of speech is nouns.\n",
        "wnl.lemmatize('brightening', pos='v')"
      ]
    },
    {
      "cell_type": "markdown",
      "metadata": {
        "id": "LegGbB6Whe0_"
      },
      "source": [
        "# Practice!!\n",
        "\n",
        "It is important for you to get familiar with this code in order to learn NLTK. Change the terms in that are being tested in each code cell to see what the outcomes are. \n",
        "\n",
        "\n",
        "Also, as hoomework you can check the `synonym`, `antonym` and `hypernym` functions for terms and lemmas. You can have quite a bit of fun with that."
      ]
    },
    {
      "cell_type": "code",
      "execution_count": null,
      "metadata": {
        "id": "B7PooEa3he0_"
      },
      "outputs": [],
      "source": []
    }
  ],
  "metadata": {
    "kernelspec": {
      "display_name": "Python 3",
      "language": "python",
      "name": "python3"
    },
    "language_info": {
      "codemirror_mode": {
        "name": "ipython",
        "version": 3
      },
      "file_extension": ".py",
      "mimetype": "text/x-python",
      "name": "python",
      "nbconvert_exporter": "python",
      "pygments_lexer": "ipython3",
      "version": "3.8.1"
    },
    "colab": {
      "provenance": []
    }
  },
  "nbformat": 4,
  "nbformat_minor": 0
}