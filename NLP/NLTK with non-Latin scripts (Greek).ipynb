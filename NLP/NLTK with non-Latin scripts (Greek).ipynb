{
  "cells": [
    {
      "cell_type": "markdown",
      "metadata": {
        "id": "QdSfwYZbjr-S"
      },
      "source": [
        "# NLTK with non-Latin scripts (Greek)\n",
        "\n",
        "I downloaded this notebook [from here](https://github.com/hb20007/hands-on-nltk-tutorial/blob/master/7-1-NLTK-with-the-Greek-Script.ipynb) and I think it is a great example for you to get a first list of Greek Stop Words and do some basic Greek text processing.\n",
        "\n",
        "It does require NLTK: so `pip install nltk` as well as download whatever you might need depending on your computer's configuration - although I think after `pip install` it should work all fine!"
      ]
    },
    {
      "cell_type": "markdown",
      "metadata": {
        "id": "Nj4H1O-ijr-Z"
      },
      "source": [
        "## 1. Cleaning text\n",
        "\n",
        "Also known as basic **Text Normalisation**"
      ]
    },
    {
      "cell_type": "code",
      "execution_count": 1,
      "metadata": {
        "colab": {
          "base_uri": "https://localhost:8080/",
          "height": 36
        },
        "id": "pn5XoPowjr-b",
        "outputId": "c545b0e0-b004-40ca-996c-e72017995dc3"
      },
      "outputs": [
        {
          "output_type": "execute_result",
          "data": {
            "text/plain": [
              "'αυτος είναι ο χορός της βροχής της φυλής, ό,τι περίεργο.'"
            ],
            "application/vnd.google.colaboratory.intrinsic+json": {
              "type": "string"
            }
          },
          "metadata": {},
          "execution_count": 1
        }
      ],
      "source": [
        "sentence = \"ΑΥΤΟΣ είναι ο χορός της βροχής της φυλής, ό,τι περίεργο.\"\n",
        "sentence = sentence.lower()\n",
        "sentence"
      ]
    },
    {
      "cell_type": "markdown",
      "metadata": {
        "id": "hJOVDTLCjr-t"
      },
      "source": [
        "A package called [`unidecode`](https://pypi.org/project/Unidecode) can be used to transliterate any Unicode string into the “closest possible representation” in ASCII text:"
      ]
    },
    {
      "cell_type": "code",
      "execution_count": 2,
      "metadata": {
        "colab": {
          "base_uri": "https://localhost:8080/"
        },
        "id": "ArIVyqlVjr-u",
        "outputId": "957f55a1-2605-4cbb-d244-932e22e195d3"
      },
      "outputs": [
        {
          "output_type": "stream",
          "name": "stdout",
          "text": [
            "Looking in indexes: https://pypi.org/simple, https://us-python.pkg.dev/colab-wheels/public/simple/\n",
            "Collecting unidecode\n",
            "  Downloading Unidecode-1.3.6-py3-none-any.whl (235 kB)\n",
            "\u001b[K     |████████████████████████████████| 235 kB 25.5 MB/s \n",
            "\u001b[?25hInstalling collected packages: unidecode\n",
            "Successfully installed unidecode-1.3.6\n"
          ]
        }
      ],
      "source": [
        "!pip install unidecode"
      ]
    },
    {
      "cell_type": "code",
      "execution_count": 3,
      "metadata": {
        "colab": {
          "base_uri": "https://localhost:8080/",
          "height": 36
        },
        "id": "1CPGROZFjr-w",
        "outputId": "afd045de-9045-4bca-bc05-08a42cc974ec"
      },
      "outputs": [
        {
          "output_type": "execute_result",
          "data": {
            "text/plain": [
              "'autos einai o khoros tes brokhes tes phules, o,ti periergo.'"
            ],
            "application/vnd.google.colaboratory.intrinsic+json": {
              "type": "string"
            }
          },
          "metadata": {},
          "execution_count": 3
        }
      ],
      "source": [
        "from unidecode import unidecode\n",
        "\n",
        "''' Unique to Greek and other non-latin languages to get the latin equivalent of it: \n",
        "        I think this step would be good whenever you need to implement software that pronounces \n",
        "        or reads Greek sentences out loud.\n",
        "'''\n",
        "sentence_latin = unidecode(sentence)\n",
        "sentence_latin"
      ]
    },
    {
      "cell_type": "markdown",
      "metadata": {
        "id": "eNFKIiLUjr-x"
      },
      "source": [
        "Now some basic **word normalisation**:"
      ]
    },
    {
      "cell_type": "code",
      "execution_count": 4,
      "metadata": {
        "colab": {
          "base_uri": "https://localhost:8080/",
          "height": 36
        },
        "id": "yLzwOYWhjr-x",
        "outputId": "c31679ae-c824-40af-d444-c28f073b80e1"
      },
      "outputs": [
        {
          "output_type": "execute_result",
          "data": {
            "text/plain": [
              "'αυτος ειναι ο χορος της βροχης της φυλης, ο,τι περιεργο.'"
            ],
            "application/vnd.google.colaboratory.intrinsic+json": {
              "type": "string"
            }
          },
          "metadata": {},
          "execution_count": 4
        }
      ],
      "source": [
        "import unicodedata\n",
        "\n",
        "def strip_accents(s):\n",
        "    return ''.join(c for c in unicodedata.normalize('NFD', s) # NFD = Normalization Form Canonical Decomposition, one of four Unicode normalization forms.\n",
        "                   if unicodedata.category(c) != 'Mn') # The character category \"Mn\" stands for Nonspacing_Mark\n",
        "sentence_no_accents = strip_accents(sentence)\n",
        "sentence_no_accents"
      ]
    },
    {
      "cell_type": "markdown",
      "metadata": {
        "id": "btq2FdT2jr-y"
      },
      "source": [
        "**Tokenisation:**"
      ]
    },
    {
      "cell_type": "code",
      "execution_count": 5,
      "metadata": {
        "colab": {
          "base_uri": "https://localhost:8080/"
        },
        "id": "HYBZr-rqjr-z",
        "outputId": "3d678459-9473-4805-a04d-d3516c79d91b"
      },
      "outputs": [
        {
          "output_type": "execute_result",
          "data": {
            "text/plain": [
              "['αυτος',\n",
              " 'ειναι',\n",
              " 'ο',\n",
              " 'χορος',\n",
              " 'της',\n",
              " 'βροχης',\n",
              " 'της',\n",
              " 'φυλης,',\n",
              " 'ο,τι',\n",
              " 'περιεργο.']"
            ]
          },
          "metadata": {},
          "execution_count": 5
        }
      ],
      "source": [
        "from nltk.tokenize import WhitespaceTokenizer\n",
        "\n",
        "tokens = WhitespaceTokenizer().tokenize(sentence_no_accents)\n",
        "tokens"
      ]
    },
    {
      "cell_type": "markdown",
      "metadata": {
        "id": "qkHLRR9gjr-0"
      },
      "source": [
        "**Removing punctuation:**"
      ]
    },
    {
      "cell_type": "code",
      "execution_count": 6,
      "metadata": {
        "colab": {
          "base_uri": "https://localhost:8080/"
        },
        "id": "4xrjuJ5-jr-0",
        "outputId": "607b0a3d-367b-4234-82d2-44997d9fc433"
      },
      "outputs": [
        {
          "output_type": "execute_result",
          "data": {
            "text/plain": [
              "['αυτος',\n",
              " 'ειναι',\n",
              " 'ο',\n",
              " 'χορος',\n",
              " 'της',\n",
              " 'βροχης',\n",
              " 'της',\n",
              " 'φυλης',\n",
              " 'ο,τι',\n",
              " 'περιεργο']"
            ]
          },
          "metadata": {},
          "execution_count": 6
        }
      ],
      "source": [
        "from string import punctuation\n",
        "\n",
        "new_tokens = []\n",
        "\n",
        "for token in tokens:\n",
        "    if token == 'ο,τι':\n",
        "        new_tokens.append('ο,τι')\n",
        "    else:\n",
        "        new_tokens.append(token.translate(str.maketrans({key: None for key in punctuation})))\n",
        "\n",
        "new_tokens_with_stopwords = new_tokens\n",
        "new_tokens"
      ]
    },
    {
      "cell_type": "markdown",
      "metadata": {
        "id": "6J2tJe09jr-2"
      },
      "source": [
        "## 2. Removing stopwords"
      ]
    },
    {
      "cell_type": "code",
      "execution_count": 7,
      "metadata": {
        "colab": {
          "base_uri": "https://localhost:8080/"
        },
        "id": "C83hpEqNjr-2",
        "outputId": "ca9eb818-690c-4994-f284-475cb1d3ef9a"
      },
      "outputs": [
        {
          "output_type": "execute_result",
          "data": {
            "text/plain": [
              "83"
            ]
          },
          "metadata": {},
          "execution_count": 7
        }
      ],
      "source": [
        "# Greek stopwords adapted from https://github.com/6/stopwords-json however better lists with more stopwords are available: https://www.translatum.gr/forum/index.php?topic=3550.0?topic=3550.0\n",
        "greek_stopwords = [\"αλλα\",\"αν\",\"αντι\",\"απο\",\"αυτα\",\"αυτες\",\"αυτη\",\"αυτο\",\"αυτοι\",\"αυτος\",\"αυτους\",\"αυτων\",\"για\",\"δε\",\"δεν\",\"εαν\",\"ειμαι\",\"ειμαστε\",\"ειναι\",\"εισαι\",\"ειστε\",\"εκεινα\",\"εκεινες\",\"εκεινη\",\"εκεινο\",\"εκεινοι\",\"εκεινος\",\"εκεινους\",\"εκεινων\",\"ενω\",\"επι\",\"η\",\"θα\",\"ισως\",\"κ\",\"και\",\"κατα\",\"κι\",\"μα\",\"με\",\"μετα\",\"μη\",\"μην\",\"να\",\"ο\",\"οι\",\"ομως\",\"οπως\",\"οσο\",\"οτι\",\"ο,τι\",\"παρα\",\"ποια\",\"ποιες\",\"ποιο\",\"ποιοι\",\"ποιος\",\"ποιους\",\"ποιων\",\"που\",\"προς\",\"πως\",\"σε\",\"στη\",\"στην\",\"στο\",\"στον\",\"στης\",\"στου\",\"στους\",\"στις\",\"στα\",\"τα\",\"την\",\"της\",\"το\",\"τον\",\"τοτε\",\"του\",\"των\",\"τις\",\"τους\",\"ως\"]\n",
        "len(greek_stopwords)"
      ]
    },
    {
      "cell_type": "code",
      "execution_count": 8,
      "metadata": {
        "colab": {
          "base_uri": "https://localhost:8080/"
        },
        "id": "U5slo8Sujr-3",
        "outputId": "02ffcb82-4a6a-4d55-b72c-43ba551600a3"
      },
      "outputs": [
        {
          "output_type": "execute_result",
          "data": {
            "text/plain": [
              "['χορος', 'βροχης', 'φυλης', 'περιεργο']"
            ]
          },
          "metadata": {},
          "execution_count": 8
        }
      ],
      "source": [
        "new_tokens_set = set(new_tokens)\n",
        "greek_stopwords_set = set(greek_stopwords)\n",
        "intersection_set = new_tokens_set.intersection(greek_stopwords_set)\n",
        "intersection_set\n",
        "\n",
        "for element in intersection_set:\n",
        "    new_tokens = list(filter((element).__ne__, new_tokens)) # __ne__ is the != operator.\n",
        "new_tokens"
      ]
    },
    {
      "cell_type": "markdown",
      "metadata": {
        "id": "lh9xrQtBjr-3"
      },
      "source": [
        "The next steps would be to either extract lemmas or to perform some stemming... But for that we need some external packages...\n",
        "\n",
        "## 3. Other packages"
      ]
    },
    {
      "cell_type": "markdown",
      "metadata": {
        "id": "qbct62-ejr-3"
      },
      "source": [
        "There are more interesting packages like [`polyglot`](https://pypi.org/project/polyglot/) and [`greek-stemmer`](https://pypi.org/project/greek-stemmer/). However, these require [`PyICU`](https://pypi.org/project/PyICU/) in order to work and installing this on Windows is a pain."
      ]
    }
  ],
  "metadata": {
    "kernelspec": {
      "display_name": "Python 3",
      "language": "python",
      "name": "python3"
    },
    "language_info": {
      "codemirror_mode": {
        "name": "ipython",
        "version": 3
      },
      "file_extension": ".py",
      "mimetype": "text/x-python",
      "name": "python",
      "nbconvert_exporter": "python",
      "pygments_lexer": "ipython3",
      "version": "3.8.1"
    },
    "colab": {
      "provenance": []
    }
  },
  "nbformat": 4,
  "nbformat_minor": 0
}